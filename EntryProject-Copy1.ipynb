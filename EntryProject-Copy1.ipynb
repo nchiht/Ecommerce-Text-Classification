{
 "cells": [
  {
   "cell_type": "code",
   "execution_count": 4,
   "id": "a0d26f08",
   "metadata": {},
   "outputs": [],
   "source": [
    "import pandas as pd\n",
    "\n",
    "dataset = pd.read_csv('datasets/ecommerceDataset.csv', header=None)"
   ]
  },
  {
   "cell_type": "code",
   "execution_count": 6,
   "id": "b87ae5cb",
   "metadata": {},
   "outputs": [
    {
     "data": {
      "text/plain": [
       "array(['Household', 'Books', 'Clothing & Accessories', 'Electronics'],\n",
       "      dtype=object)"
      ]
     },
     "execution_count": 6,
     "metadata": {},
     "output_type": "execute_result"
    }
   ],
   "source": [
    "categories = dataset[0].unique()\n",
    "categories"
   ]
  },
  {
   "cell_type": "code",
   "execution_count": 7,
   "id": "8b1b272f",
   "metadata": {},
   "outputs": [
    {
     "data": {
      "text/html": [
       "<div>\n",
       "<style scoped>\n",
       "    .dataframe tbody tr th:only-of-type {\n",
       "        vertical-align: middle;\n",
       "    }\n",
       "\n",
       "    .dataframe tbody tr th {\n",
       "        vertical-align: top;\n",
       "    }\n",
       "\n",
       "    .dataframe thead tr th {\n",
       "        text-align: left;\n",
       "    }\n",
       "\n",
       "    .dataframe thead tr:last-of-type th {\n",
       "        text-align: right;\n",
       "    }\n",
       "</style>\n",
       "<table border=\"1\" class=\"dataframe\">\n",
       "  <thead>\n",
       "    <tr>\n",
       "      <th></th>\n",
       "      <th colspan=\"4\" halign=\"left\">1</th>\n",
       "    </tr>\n",
       "    <tr>\n",
       "      <th></th>\n",
       "      <th>count</th>\n",
       "      <th>unique</th>\n",
       "      <th>top</th>\n",
       "      <th>freq</th>\n",
       "    </tr>\n",
       "    <tr>\n",
       "      <th>0</th>\n",
       "      <th></th>\n",
       "      <th></th>\n",
       "      <th></th>\n",
       "      <th></th>\n",
       "    </tr>\n",
       "  </thead>\n",
       "  <tbody>\n",
       "    <tr>\n",
       "      <th>Books</th>\n",
       "      <td>11820</td>\n",
       "      <td>6256</td>\n",
       "      <td>Think &amp; Grow Rich About the Author NAPOLEON HI...</td>\n",
       "      <td>30</td>\n",
       "    </tr>\n",
       "    <tr>\n",
       "      <th>Clothing &amp; Accessories</th>\n",
       "      <td>8670</td>\n",
       "      <td>5674</td>\n",
       "      <td>Diverse Men's Formal Shirt Diverse is a wester...</td>\n",
       "      <td>23</td>\n",
       "    </tr>\n",
       "    <tr>\n",
       "      <th>Electronics</th>\n",
       "      <td>10621</td>\n",
       "      <td>5308</td>\n",
       "      <td>HP 680 Original Ink Advantage Cartridge (Black...</td>\n",
       "      <td>26</td>\n",
       "    </tr>\n",
       "    <tr>\n",
       "      <th>Household</th>\n",
       "      <td>19313</td>\n",
       "      <td>10564</td>\n",
       "      <td>Nilkamal Series-24 Chest of Drawers (Cream Tra...</td>\n",
       "      <td>13</td>\n",
       "    </tr>\n",
       "  </tbody>\n",
       "</table>\n",
       "</div>"
      ],
      "text/plain": [
       "                            1         \\\n",
       "                        count unique   \n",
       "0                                      \n",
       "Books                   11820   6256   \n",
       "Clothing & Accessories   8670   5674   \n",
       "Electronics             10621   5308   \n",
       "Household               19313  10564   \n",
       "\n",
       "                                                                                \n",
       "                                                                      top freq  \n",
       "0                                                                               \n",
       "Books                   Think & Grow Rich About the Author NAPOLEON HI...   30  \n",
       "Clothing & Accessories  Diverse Men's Formal Shirt Diverse is a wester...   23  \n",
       "Electronics             HP 680 Original Ink Advantage Cartridge (Black...   26  \n",
       "Household               Nilkamal Series-24 Chest of Drawers (Cream Tra...   13  "
      ]
     },
     "execution_count": 7,
     "metadata": {},
     "output_type": "execute_result"
    }
   ],
   "source": [
    "dataset.groupby(0).describe()"
   ]
  },
  {
   "cell_type": "code",
   "execution_count": 10,
   "id": "44b0a919",
   "metadata": {},
   "outputs": [],
   "source": [
    "dataset_books = dataset[dataset[0] == 'Books']\n",
    "\n",
    "dataset_clo = dataset[dataset[0] == 'Clothing & Accessories']\n",
    "\n",
    "dataset_elec = dataset[dataset[0] == 'Electronics']\n",
    "\n",
    "dataset_house = dataset[dataset[0] == 'Household']"
   ]
  },
  {
   "cell_type": "code",
   "execution_count": 13,
   "id": "903e278c",
   "metadata": {},
   "outputs": [
    {
     "data": {
      "text/plain": [
       "(8671, 2)"
      ]
     },
     "execution_count": 13,
     "metadata": {},
     "output_type": "execute_result"
    }
   ],
   "source": [
    "dataset_elec = dataset_elec.head(dataset_clo.shape[0])\n",
    "dataset_elec.shape\n",
    "\n",
    "dataset_books = dataset_books.head(dataset_clo.shape[0])\n",
    "dataset_books.shape\n",
    "\n",
    "dataset_house = dataset_house.head(dataset_clo.shape[0])\n",
    "dataset_house.shape"
   ]
  },
  {
   "cell_type": "code",
   "execution_count": 15,
   "id": "1bb6bd65",
   "metadata": {},
   "outputs": [
    {
     "data": {
      "text/html": [
       "<div>\n",
       "<style scoped>\n",
       "    .dataframe tbody tr th:only-of-type {\n",
       "        vertical-align: middle;\n",
       "    }\n",
       "\n",
       "    .dataframe tbody tr th {\n",
       "        vertical-align: top;\n",
       "    }\n",
       "\n",
       "    .dataframe thead th {\n",
       "        text-align: right;\n",
       "    }\n",
       "</style>\n",
       "<table border=\"1\" class=\"dataframe\">\n",
       "  <thead>\n",
       "    <tr style=\"text-align: right;\">\n",
       "      <th></th>\n",
       "      <th>0</th>\n",
       "      <th>1</th>\n",
       "    </tr>\n",
       "  </thead>\n",
       "  <tbody>\n",
       "    <tr>\n",
       "      <th>19313</th>\n",
       "      <td>Books</td>\n",
       "      <td>Inner Engineering: A Yogi's Guide to Joy About...</td>\n",
       "    </tr>\n",
       "    <tr>\n",
       "      <th>19314</th>\n",
       "      <td>Books</td>\n",
       "      <td>Muslims and Missionaries in Pre-Mutiny India</td>\n",
       "    </tr>\n",
       "    <tr>\n",
       "      <th>19315</th>\n",
       "      <td>Books</td>\n",
       "      <td>The PCOD - Thyroid Book - Compiled From Women ...</td>\n",
       "    </tr>\n",
       "    <tr>\n",
       "      <th>19316</th>\n",
       "      <td>Books</td>\n",
       "      <td>The Monk Who Sold His Ferrari Review Everyone ...</td>\n",
       "    </tr>\n",
       "    <tr>\n",
       "      <th>19317</th>\n",
       "      <td>Books</td>\n",
       "      <td>The Secret of Secrets: The Secrets of the Gold...</td>\n",
       "    </tr>\n",
       "    <tr>\n",
       "      <th>...</th>\n",
       "      <td>...</td>\n",
       "      <td>...</td>\n",
       "    </tr>\n",
       "    <tr>\n",
       "      <th>48470</th>\n",
       "      <td>Electronics</td>\n",
       "      <td>LG GH24NSD1 Internal SATA DVD Writer The M-DIS...</td>\n",
       "    </tr>\n",
       "    <tr>\n",
       "      <th>48471</th>\n",
       "      <td>Electronics</td>\n",
       "      <td>LG GP65NB60 External DVD Writer (Black) LG GP6...</td>\n",
       "    </tr>\n",
       "    <tr>\n",
       "      <th>48472</th>\n",
       "      <td>Electronics</td>\n",
       "      <td>PIONEER DVD PLAYER DV-3052V Pioneer DV-3052 Mu...</td>\n",
       "    </tr>\n",
       "    <tr>\n",
       "      <th>48473</th>\n",
       "      <td>Electronics</td>\n",
       "      <td>LG DP546 DVD Player (Black) DivX-This is a for...</td>\n",
       "    </tr>\n",
       "    <tr>\n",
       "      <th>48474</th>\n",
       "      <td>Electronics</td>\n",
       "      <td>PODOFO 10.9cm Foldable TFT Color LCD Car Monit...</td>\n",
       "    </tr>\n",
       "  </tbody>\n",
       "</table>\n",
       "<p>34684 rows × 2 columns</p>\n",
       "</div>"
      ],
      "text/plain": [
       "                 0                                                  1\n",
       "19313        Books  Inner Engineering: A Yogi's Guide to Joy About...\n",
       "19314        Books       Muslims and Missionaries in Pre-Mutiny India\n",
       "19315        Books  The PCOD - Thyroid Book - Compiled From Women ...\n",
       "19316        Books  The Monk Who Sold His Ferrari Review Everyone ...\n",
       "19317        Books  The Secret of Secrets: The Secrets of the Gold...\n",
       "...            ...                                                ...\n",
       "48470  Electronics  LG GH24NSD1 Internal SATA DVD Writer The M-DIS...\n",
       "48471  Electronics  LG GP65NB60 External DVD Writer (Black) LG GP6...\n",
       "48472  Electronics  PIONEER DVD PLAYER DV-3052V Pioneer DV-3052 Mu...\n",
       "48473  Electronics  LG DP546 DVD Player (Black) DivX-This is a for...\n",
       "48474  Electronics  PODOFO 10.9cm Foldable TFT Color LCD Car Monit...\n",
       "\n",
       "[34684 rows x 2 columns]"
      ]
     },
     "execution_count": 15,
     "metadata": {},
     "output_type": "execute_result"
    }
   ],
   "source": [
    "datasets_arr = [dataset_books, dataset_house, dataset_clo, dataset_elec]\n",
    "datasets_merged = pd.concat(datasets_arr)\n",
    "datasets_merged"
   ]
  },
  {
   "cell_type": "code",
   "execution_count": 23,
   "id": "67601139",
   "metadata": {},
   "outputs": [
    {
     "data": {
      "text/plain": [
       "19313    Books\n",
       "19314    Books\n",
       "19315    Books\n",
       "19316    Books\n",
       "19317    Books\n",
       "19318    Books\n",
       "19319    Books\n",
       "19320    Books\n",
       "19321    Books\n",
       "19322    Books\n",
       "Name: 0, dtype: object"
      ]
     },
     "execution_count": 23,
     "metadata": {},
     "output_type": "execute_result"
    }
   ],
   "source": [
    "labels = datasets_merged[0]\n",
    "texts = datasets_merged[1]\n",
    "labels.head(10)"
   ]
  },
  {
   "cell_type": "code",
   "execution_count": 20,
   "id": "d9eb9f96",
   "metadata": {},
   "outputs": [
    {
     "data": {
      "text/plain": [
       "(200, 2)"
      ]
     },
     "execution_count": 20,
     "metadata": {},
     "output_type": "execute_result"
    }
   ],
   "source": [
    "df_text = datasets_merged[1].values\n",
    "df_label = datasets_merged[0].values\n",
    "x_train = df[:200, : ]\n",
    "x_train.shape\n",
    "y_train ="
   ]
  }
 ],
 "metadata": {
  "kernelspec": {
   "display_name": "Python 3 (ipykernel)",
   "language": "python",
   "name": "python3"
  },
  "language_info": {
   "codemirror_mode": {
    "name": "ipython",
    "version": 3
   },
   "file_extension": ".py",
   "mimetype": "text/x-python",
   "name": "python",
   "nbconvert_exporter": "python",
   "pygments_lexer": "ipython3",
   "version": "3.10.11"
  }
 },
 "nbformat": 4,
 "nbformat_minor": 5
}
