{
 "cells": [
  {
   "cell_type": "markdown",
   "id": "95a72b02",
   "metadata": {},
   "source": [
    "# Importing library and data"
   ]
  },
  {
   "cell_type": "code",
   "execution_count": null,
   "id": "e61f2219",
   "metadata": {},
   "outputs": [],
   "source": [
    "pip install tensorflow_text"
   ]
  },
  {
   "cell_type": "code",
   "execution_count": 1,
   "id": "ee0b59d7-4b37-41b6-9e31-76081ed68d72",
   "metadata": {},
   "outputs": [
    {
     "data": {
      "text/plain": [
       "'2.13.0'"
      ]
     },
     "execution_count": 1,
     "metadata": {},
     "output_type": "execute_result"
    }
   ],
   "source": [
    "import tensorflow as tf\n",
    "tf.__version__"
   ]
  },
  {
   "cell_type": "code",
   "execution_count": 1,
   "id": "e8f85963-5468-4138-b981-d3e82c309f84",
   "metadata": {},
   "outputs": [],
   "source": [
    "import tensorflow as tf\n",
    "import tensorflow_hub as hub\n",
    "import tensorflow_text as text"
   ]
  },
  {
   "cell_type": "code",
   "execution_count": 109,
   "id": "dec15dcc",
   "metadata": {},
   "outputs": [
    {
     "data": {
      "text/html": [
       "<div>\n",
       "<style scoped>\n",
       "    .dataframe tbody tr th:only-of-type {\n",
       "        vertical-align: middle;\n",
       "    }\n",
       "\n",
       "    .dataframe tbody tr th {\n",
       "        vertical-align: top;\n",
       "    }\n",
       "\n",
       "    .dataframe thead th {\n",
       "        text-align: right;\n",
       "    }\n",
       "</style>\n",
       "<table border=\"1\" class=\"dataframe\">\n",
       "  <thead>\n",
       "    <tr style=\"text-align: right;\">\n",
       "      <th></th>\n",
       "      <th>Labels</th>\n",
       "      <th>Text</th>\n",
       "    </tr>\n",
       "  </thead>\n",
       "  <tbody>\n",
       "    <tr>\n",
       "      <th>0</th>\n",
       "      <td>Household</td>\n",
       "      <td>Paper Plane Design Framed Wall Hanging Motivat...</td>\n",
       "    </tr>\n",
       "    <tr>\n",
       "      <th>1</th>\n",
       "      <td>Household</td>\n",
       "      <td>SAF 'Floral' Framed Painting (Wood, 30 inch x ...</td>\n",
       "    </tr>\n",
       "    <tr>\n",
       "      <th>2</th>\n",
       "      <td>Household</td>\n",
       "      <td>SAF 'UV Textured Modern Art Print Framed' Pain...</td>\n",
       "    </tr>\n",
       "    <tr>\n",
       "      <th>3</th>\n",
       "      <td>Household</td>\n",
       "      <td>SAF Flower Print Framed Painting (Synthetic, 1...</td>\n",
       "    </tr>\n",
       "    <tr>\n",
       "      <th>4</th>\n",
       "      <td>Household</td>\n",
       "      <td>Incredible Gifts India Wooden Happy Birthday U...</td>\n",
       "    </tr>\n",
       "    <tr>\n",
       "      <th>5</th>\n",
       "      <td>Household</td>\n",
       "      <td>Pitaara Box Romantic Venice Canvas Painting 6m...</td>\n",
       "    </tr>\n",
       "    <tr>\n",
       "      <th>6</th>\n",
       "      <td>Household</td>\n",
       "      <td>Paper Plane Design Starry Night Vangoh Wall Ar...</td>\n",
       "    </tr>\n",
       "    <tr>\n",
       "      <th>7</th>\n",
       "      <td>Household</td>\n",
       "      <td>Pitaara Box Romantic Venice Canvas Painting 6m...</td>\n",
       "    </tr>\n",
       "    <tr>\n",
       "      <th>8</th>\n",
       "      <td>Household</td>\n",
       "      <td>SAF 'Ganesh Modern Art Print' Painting (Synthe...</td>\n",
       "    </tr>\n",
       "    <tr>\n",
       "      <th>9</th>\n",
       "      <td>Household</td>\n",
       "      <td>Paintings Villa UV Textured Modern Art Print F...</td>\n",
       "    </tr>\n",
       "  </tbody>\n",
       "</table>\n",
       "</div>"
      ],
      "text/plain": [
       "      Labels                                               Text\n",
       "0  Household  Paper Plane Design Framed Wall Hanging Motivat...\n",
       "1  Household  SAF 'Floral' Framed Painting (Wood, 30 inch x ...\n",
       "2  Household  SAF 'UV Textured Modern Art Print Framed' Pain...\n",
       "3  Household  SAF Flower Print Framed Painting (Synthetic, 1...\n",
       "4  Household  Incredible Gifts India Wooden Happy Birthday U...\n",
       "5  Household  Pitaara Box Romantic Venice Canvas Painting 6m...\n",
       "6  Household  Paper Plane Design Starry Night Vangoh Wall Ar...\n",
       "7  Household  Pitaara Box Romantic Venice Canvas Painting 6m...\n",
       "8  Household  SAF 'Ganesh Modern Art Print' Painting (Synthe...\n",
       "9  Household  Paintings Villa UV Textured Modern Art Print F..."
      ]
     },
     "execution_count": 109,
     "metadata": {},
     "output_type": "execute_result"
    }
   ],
   "source": [
    "import pandas as pd\n",
    "\n",
    "dt = pd.read_csv('./datasets/ecommerceDataset.csv')\n",
    "dt.head(10)"
   ]
  },
  {
   "cell_type": "markdown",
   "id": "2f8c8a39",
   "metadata": {},
   "source": [
    "## **Data preprocessing**\n",
    "### *Getting all categories*"
   ]
  },
  {
   "cell_type": "code",
   "execution_count": 110,
   "id": "ab6fa897",
   "metadata": {},
   "outputs": [
    {
     "name": "stdout",
     "output_type": "stream",
     "text": [
      "['Household' 'Books' 'Clothing & Accessories' 'Electronics']\n"
     ]
    }
   ],
   "source": [
    "categories = dt['Labels'].unique()\n",
    "print(categories)"
   ]
  },
  {
   "cell_type": "code",
   "execution_count": 111,
   "id": "e5bc0a7c",
   "metadata": {},
   "outputs": [
    {
     "data": {
      "text/html": [
       "<div>\n",
       "<style scoped>\n",
       "    .dataframe tbody tr th:only-of-type {\n",
       "        vertical-align: middle;\n",
       "    }\n",
       "\n",
       "    .dataframe tbody tr th {\n",
       "        vertical-align: top;\n",
       "    }\n",
       "\n",
       "    .dataframe thead tr th {\n",
       "        text-align: left;\n",
       "    }\n",
       "\n",
       "    .dataframe thead tr:last-of-type th {\n",
       "        text-align: right;\n",
       "    }\n",
       "</style>\n",
       "<table border=\"1\" class=\"dataframe\">\n",
       "  <thead>\n",
       "    <tr>\n",
       "      <th></th>\n",
       "      <th colspan=\"4\" halign=\"left\">Text</th>\n",
       "    </tr>\n",
       "    <tr>\n",
       "      <th></th>\n",
       "      <th>count</th>\n",
       "      <th>unique</th>\n",
       "      <th>top</th>\n",
       "      <th>freq</th>\n",
       "    </tr>\n",
       "    <tr>\n",
       "      <th>Labels</th>\n",
       "      <th></th>\n",
       "      <th></th>\n",
       "      <th></th>\n",
       "      <th></th>\n",
       "    </tr>\n",
       "  </thead>\n",
       "  <tbody>\n",
       "    <tr>\n",
       "      <th>Books</th>\n",
       "      <td>11820</td>\n",
       "      <td>6256</td>\n",
       "      <td>Think &amp; Grow Rich About the Author NAPOLEON HI...</td>\n",
       "      <td>30</td>\n",
       "    </tr>\n",
       "    <tr>\n",
       "      <th>Clothing &amp; Accessories</th>\n",
       "      <td>8670</td>\n",
       "      <td>5674</td>\n",
       "      <td>Diverse Men's Formal Shirt Diverse is a wester...</td>\n",
       "      <td>23</td>\n",
       "    </tr>\n",
       "    <tr>\n",
       "      <th>Electronics</th>\n",
       "      <td>10621</td>\n",
       "      <td>5308</td>\n",
       "      <td>HP 680 Original Ink Advantage Cartridge (Black...</td>\n",
       "      <td>26</td>\n",
       "    </tr>\n",
       "    <tr>\n",
       "      <th>Household</th>\n",
       "      <td>19313</td>\n",
       "      <td>10564</td>\n",
       "      <td>Nilkamal Series-24 Chest of Drawers (Cream Tra...</td>\n",
       "      <td>13</td>\n",
       "    </tr>\n",
       "  </tbody>\n",
       "</table>\n",
       "</div>"
      ],
      "text/plain": [
       "                         Text          \n",
       "                        count unique   \n",
       "Labels                                 \n",
       "Books                   11820   6256  \\\n",
       "Clothing & Accessories   8670   5674   \n",
       "Electronics             10621   5308   \n",
       "Household               19313  10564   \n",
       "\n",
       "                                                                                \n",
       "                                                                      top freq  \n",
       "Labels                                                                          \n",
       "Books                   Think & Grow Rich About the Author NAPOLEON HI...   30  \n",
       "Clothing & Accessories  Diverse Men's Formal Shirt Diverse is a wester...   23  \n",
       "Electronics             HP 680 Original Ink Advantage Cartridge (Black...   26  \n",
       "Household               Nilkamal Series-24 Chest of Drawers (Cream Tra...   13  "
      ]
     },
     "execution_count": 111,
     "metadata": {},
     "output_type": "execute_result"
    }
   ],
   "source": [
    "dt.groupby('Labels').describe()"
   ]
  },
  {
   "cell_type": "markdown",
   "id": "ce58d0c6",
   "metadata": {},
   "source": [
    "### *Handling dataframes*"
   ]
  },
  {
   "cell_type": "code",
   "execution_count": 112,
   "id": "11c1c4d2",
   "metadata": {
    "scrolled": true
   },
   "outputs": [
    {
     "data": {
      "text/plain": [
       "(8671, 2)"
      ]
     },
     "execution_count": 112,
     "metadata": {},
     "output_type": "execute_result"
    }
   ],
   "source": [
    "df_accessories = dt[dt['Labels'] == 'Clothing & Accessories']\n",
    "df_accessories.head(10)\n",
    "df_accessories.shape\n"
   ]
  },
  {
   "cell_type": "code",
   "execution_count": 6,
   "id": "8dde9a98",
   "metadata": {},
   "outputs": [
    {
     "data": {
      "text/plain": [
       "(11820, 2)"
      ]
     },
     "execution_count": 6,
     "metadata": {},
     "output_type": "execute_result"
    }
   ],
   "source": [
    "df_books = dt[dt['Labels'] == 'Books']\n",
    "df_books.shape"
   ]
  },
  {
   "cell_type": "code",
   "execution_count": 7,
   "id": "f733c46d",
   "metadata": {},
   "outputs": [
    {
     "data": {
      "text/plain": [
       "(19313, 2)"
      ]
     },
     "execution_count": 7,
     "metadata": {},
     "output_type": "execute_result"
    }
   ],
   "source": [
    "df_household = dt[dt['Labels'] == 'Household']\n",
    "df_household.shape"
   ]
  },
  {
   "cell_type": "code",
   "execution_count": 8,
   "id": "d98038cb",
   "metadata": {},
   "outputs": [
    {
     "data": {
      "text/plain": [
       "(10621, 2)"
      ]
     },
     "execution_count": 8,
     "metadata": {},
     "output_type": "execute_result"
    }
   ],
   "source": [
    "df_elec = dt[dt['Labels'] == 'Electronics']\n",
    "df_elec.shape"
   ]
  },
  {
   "cell_type": "markdown",
   "id": "31e93b4c",
   "metadata": {},
   "source": [
    "### ***Balancing dataframes***"
   ]
  },
  {
   "cell_type": "code",
   "execution_count": 9,
   "id": "7840e9f8",
   "metadata": {},
   "outputs": [
    {
     "data": {
      "text/plain": [
       "(8671, 2)"
      ]
     },
     "execution_count": 9,
     "metadata": {},
     "output_type": "execute_result"
    }
   ],
   "source": [
    "df_books_downsample = df_books.head(df_accessories.shape[0])\n",
    "df_books_downsample.shape"
   ]
  },
  {
   "cell_type": "code",
   "execution_count": 10,
   "id": "4876eb86",
   "metadata": {},
   "outputs": [
    {
     "data": {
      "text/plain": [
       "(8671, 2)"
      ]
     },
     "execution_count": 10,
     "metadata": {},
     "output_type": "execute_result"
    }
   ],
   "source": [
    "df_household_downsample = df_household.head(df_accessories.shape[0])\n",
    "df_household_downsample.shape"
   ]
  },
  {
   "cell_type": "code",
   "execution_count": 11,
   "id": "7b8f58fe",
   "metadata": {},
   "outputs": [
    {
     "data": {
      "text/html": [
       "<div>\n",
       "<style scoped>\n",
       "    .dataframe tbody tr th:only-of-type {\n",
       "        vertical-align: middle;\n",
       "    }\n",
       "\n",
       "    .dataframe tbody tr th {\n",
       "        vertical-align: top;\n",
       "    }\n",
       "\n",
       "    .dataframe thead th {\n",
       "        text-align: right;\n",
       "    }\n",
       "</style>\n",
       "<table border=\"1\" class=\"dataframe\">\n",
       "  <thead>\n",
       "    <tr style=\"text-align: right;\">\n",
       "      <th></th>\n",
       "      <th>Labels</th>\n",
       "      <th>Text</th>\n",
       "    </tr>\n",
       "  </thead>\n",
       "  <tbody>\n",
       "    <tr>\n",
       "      <th>39804</th>\n",
       "      <td>Electronics</td>\n",
       "      <td>Dell 19.5V-3.34AMP 65W Laptop Adapter (Without...</td>\n",
       "    </tr>\n",
       "    <tr>\n",
       "      <th>39805</th>\n",
       "      <td>Electronics</td>\n",
       "      <td>Bluetooth Dongle USB CSR 4.0 Adapter Receiver ...</td>\n",
       "    </tr>\n",
       "    <tr>\n",
       "      <th>39806</th>\n",
       "      <td>Electronics</td>\n",
       "      <td>Wi-Fi Receiver 300Mbps, 2.4GHz, 802.11b/g/n US...</td>\n",
       "    </tr>\n",
       "    <tr>\n",
       "      <th>39807</th>\n",
       "      <td>Electronics</td>\n",
       "      <td>SanDisk 64GB Class 10 microSDXC Memory Card wi...</td>\n",
       "    </tr>\n",
       "    <tr>\n",
       "      <th>39808</th>\n",
       "      <td>Electronics</td>\n",
       "      <td>Gizga Essentials Laptop Power Cable Cord- 3 Pi...</td>\n",
       "    </tr>\n",
       "  </tbody>\n",
       "</table>\n",
       "</div>"
      ],
      "text/plain": [
       "            Labels                                               Text\n",
       "39804  Electronics  Dell 19.5V-3.34AMP 65W Laptop Adapter (Without...\n",
       "39805  Electronics  Bluetooth Dongle USB CSR 4.0 Adapter Receiver ...\n",
       "39806  Electronics  Wi-Fi Receiver 300Mbps, 2.4GHz, 802.11b/g/n US...\n",
       "39807  Electronics  SanDisk 64GB Class 10 microSDXC Memory Card wi...\n",
       "39808  Electronics  Gizga Essentials Laptop Power Cable Cord- 3 Pi..."
      ]
     },
     "execution_count": 11,
     "metadata": {},
     "output_type": "execute_result"
    }
   ],
   "source": [
    "df_elec_downsample = df_elec.head(df_accessories.shape[0])\n",
    "df_elec_downsample.shape\n",
    "df_elec_downsample.head()"
   ]
  },
  {
   "cell_type": "markdown",
   "id": "cbf335aa",
   "metadata": {},
   "source": [
    "### ***Merging dataframes***"
   ]
  },
  {
   "cell_type": "code",
   "execution_count": 12,
   "id": "b62112df",
   "metadata": {},
   "outputs": [
    {
     "data": {
      "text/html": [
       "<div>\n",
       "<style scoped>\n",
       "    .dataframe tbody tr th:only-of-type {\n",
       "        vertical-align: middle;\n",
       "    }\n",
       "\n",
       "    .dataframe tbody tr th {\n",
       "        vertical-align: top;\n",
       "    }\n",
       "\n",
       "    .dataframe thead th {\n",
       "        text-align: right;\n",
       "    }\n",
       "</style>\n",
       "<table border=\"1\" class=\"dataframe\">\n",
       "  <thead>\n",
       "    <tr style=\"text-align: right;\">\n",
       "      <th></th>\n",
       "      <th>Labels</th>\n",
       "      <th>Text</th>\n",
       "    </tr>\n",
       "  </thead>\n",
       "  <tbody>\n",
       "    <tr>\n",
       "      <th>0</th>\n",
       "      <td>Household</td>\n",
       "      <td>Paper Plane Design Framed Wall Hanging Motivat...</td>\n",
       "    </tr>\n",
       "    <tr>\n",
       "      <th>1</th>\n",
       "      <td>Household</td>\n",
       "      <td>SAF 'Floral' Framed Painting (Wood, 30 inch x ...</td>\n",
       "    </tr>\n",
       "    <tr>\n",
       "      <th>2</th>\n",
       "      <td>Household</td>\n",
       "      <td>SAF 'UV Textured Modern Art Print Framed' Pain...</td>\n",
       "    </tr>\n",
       "    <tr>\n",
       "      <th>3</th>\n",
       "      <td>Household</td>\n",
       "      <td>SAF Flower Print Framed Painting (Synthetic, 1...</td>\n",
       "    </tr>\n",
       "    <tr>\n",
       "      <th>4</th>\n",
       "      <td>Household</td>\n",
       "      <td>Incredible Gifts India Wooden Happy Birthday U...</td>\n",
       "    </tr>\n",
       "    <tr>\n",
       "      <th>...</th>\n",
       "      <td>...</td>\n",
       "      <td>...</td>\n",
       "    </tr>\n",
       "    <tr>\n",
       "      <th>8666</th>\n",
       "      <td>Household</td>\n",
       "      <td>Glync 5W LED Recessed Spot Light Ceiling Downl...</td>\n",
       "    </tr>\n",
       "    <tr>\n",
       "      <th>8667</th>\n",
       "      <td>Household</td>\n",
       "      <td>Philips AstraPrime 10-Watt Recessed LED Panel ...</td>\n",
       "    </tr>\n",
       "    <tr>\n",
       "      <th>8668</th>\n",
       "      <td>Household</td>\n",
       "      <td>D'MakTM LED Ceiling COB Spot Light - 3 Watt - ...</td>\n",
       "    </tr>\n",
       "    <tr>\n",
       "      <th>8669</th>\n",
       "      <td>Household</td>\n",
       "      <td>Philips AstraPrime 5-Watt Recessed LED Panel C...</td>\n",
       "    </tr>\n",
       "    <tr>\n",
       "      <th>8670</th>\n",
       "      <td>Household</td>\n",
       "      <td>Philips Astra Prime 22-Watt LED Panel Light (C...</td>\n",
       "    </tr>\n",
       "  </tbody>\n",
       "</table>\n",
       "<p>8671 rows × 2 columns</p>\n",
       "</div>"
      ],
      "text/plain": [
       "         Labels                                               Text\n",
       "0     Household  Paper Plane Design Framed Wall Hanging Motivat...\n",
       "1     Household  SAF 'Floral' Framed Painting (Wood, 30 inch x ...\n",
       "2     Household  SAF 'UV Textured Modern Art Print Framed' Pain...\n",
       "3     Household  SAF Flower Print Framed Painting (Synthetic, 1...\n",
       "4     Household  Incredible Gifts India Wooden Happy Birthday U...\n",
       "...         ...                                                ...\n",
       "8666  Household  Glync 5W LED Recessed Spot Light Ceiling Downl...\n",
       "8667  Household  Philips AstraPrime 10-Watt Recessed LED Panel ...\n",
       "8668  Household  D'MakTM LED Ceiling COB Spot Light - 3 Watt - ...\n",
       "8669  Household  Philips AstraPrime 5-Watt Recessed LED Panel C...\n",
       "8670  Household  Philips Astra Prime 22-Watt LED Panel Light (C...\n",
       "\n",
       "[8671 rows x 2 columns]"
      ]
     },
     "execution_count": 12,
     "metadata": {},
     "output_type": "execute_result"
    }
   ],
   "source": [
    "dfs_array = [df_accessories, df_books_downsample, df_household_downsample, df_elec_downsample]\n",
    "df_merged = pd.concat(dfs_array)\n",
    "df_merged[df_merged['Labels'] == 'Household']"
   ]
  },
  {
   "cell_type": "markdown",
   "id": "c2d78d1a",
   "metadata": {},
   "source": [
    "### ***Adding 'type' column***"
   ]
  },
  {
   "cell_type": "code",
   "execution_count": 13,
   "id": "6eff7316",
   "metadata": {},
   "outputs": [
    {
     "data": {
      "text/html": [
       "<div>\n",
       "<style scoped>\n",
       "    .dataframe tbody tr th:only-of-type {\n",
       "        vertical-align: middle;\n",
       "    }\n",
       "\n",
       "    .dataframe tbody tr th {\n",
       "        vertical-align: top;\n",
       "    }\n",
       "\n",
       "    .dataframe thead th {\n",
       "        text-align: right;\n",
       "    }\n",
       "</style>\n",
       "<table border=\"1\" class=\"dataframe\">\n",
       "  <thead>\n",
       "    <tr style=\"text-align: right;\">\n",
       "      <th></th>\n",
       "      <th>Labels</th>\n",
       "      <th>Text</th>\n",
       "      <th>Type</th>\n",
       "    </tr>\n",
       "  </thead>\n",
       "  <tbody>\n",
       "    <tr>\n",
       "      <th>37985</th>\n",
       "      <td>Clothing &amp; Accessories</td>\n",
       "      <td>GOLDSTROMS Women's Maternity Pant/Jegging Gold...</td>\n",
       "      <td>3</td>\n",
       "    </tr>\n",
       "    <tr>\n",
       "      <th>1782</th>\n",
       "      <td>Household</td>\n",
       "      <td>@home by Nilkamal Fern  6 Seater Dining Table ...</td>\n",
       "      <td>0</td>\n",
       "    </tr>\n",
       "    <tr>\n",
       "      <th>24777</th>\n",
       "      <td>Books</td>\n",
       "      <td>The Will to Climb: Obsession and Commitment an...</td>\n",
       "      <td>1</td>\n",
       "    </tr>\n",
       "    <tr>\n",
       "      <th>25279</th>\n",
       "      <td>Books</td>\n",
       "      <td>Zen in the Martial Arts Review ''If one of you...</td>\n",
       "      <td>1</td>\n",
       "    </tr>\n",
       "    <tr>\n",
       "      <th>2071</th>\n",
       "      <td>Household</td>\n",
       "      <td>Aashi Enterprise Cane Art Contemporary Rattan ...</td>\n",
       "      <td>0</td>\n",
       "    </tr>\n",
       "    <tr>\n",
       "      <th>34622</th>\n",
       "      <td>Clothing &amp; Accessories</td>\n",
       "      <td>Jockey Men's Cotton Thermal Long Pant Feel at ...</td>\n",
       "      <td>3</td>\n",
       "    </tr>\n",
       "    <tr>\n",
       "      <th>832</th>\n",
       "      <td>Household</td>\n",
       "      <td>Quechua Arpenaz 50 Hammock</td>\n",
       "      <td>0</td>\n",
       "    </tr>\n",
       "    <tr>\n",
       "      <th>45302</th>\n",
       "      <td>Electronics</td>\n",
       "      <td>Zaptin 12X Universal Optical Zoom Lens Telesco...</td>\n",
       "      <td>2</td>\n",
       "    </tr>\n",
       "    <tr>\n",
       "      <th>34647</th>\n",
       "      <td>Clothing &amp; Accessories</td>\n",
       "      <td>Hanes Men's Plain Thermal Bottom Hanes Men Gre...</td>\n",
       "      <td>3</td>\n",
       "    </tr>\n",
       "    <tr>\n",
       "      <th>2636</th>\n",
       "      <td>Household</td>\n",
       "      <td>DecorNation Carissa Solid Wood Set of 3 Nestin...</td>\n",
       "      <td>0</td>\n",
       "    </tr>\n",
       "    <tr>\n",
       "      <th>32507</th>\n",
       "      <td>Clothing &amp; Accessories</td>\n",
       "      <td>Boy's Ethnic Wear Cotton Kurta Payjama Set By ...</td>\n",
       "      <td>3</td>\n",
       "    </tr>\n",
       "    <tr>\n",
       "      <th>31792</th>\n",
       "      <td>Clothing &amp; Accessories</td>\n",
       "      <td>Cherokee by Unlimited Boys' Regular Fit Shorts...</td>\n",
       "      <td>3</td>\n",
       "    </tr>\n",
       "    <tr>\n",
       "      <th>44971</th>\n",
       "      <td>Electronics</td>\n",
       "      <td>Glive's L-SS3 FM Radio player Mini Speaker MP3...</td>\n",
       "      <td>2</td>\n",
       "    </tr>\n",
       "    <tr>\n",
       "      <th>23475</th>\n",
       "      <td>Books</td>\n",
       "      <td>A Modern Approach to Verbal &amp; Non-Verbal Reaso...</td>\n",
       "      <td>1</td>\n",
       "    </tr>\n",
       "    <tr>\n",
       "      <th>48262</th>\n",
       "      <td>Electronics</td>\n",
       "      <td>Lowrence- Strike Digital Car Rear for Vcd/DVD/...</td>\n",
       "      <td>2</td>\n",
       "    </tr>\n",
       "    <tr>\n",
       "      <th>33605</th>\n",
       "      <td>Clothing &amp; Accessories</td>\n",
       "      <td>United Colors of Benetton Girl's Sweatshirt Un...</td>\n",
       "      <td>3</td>\n",
       "    </tr>\n",
       "    <tr>\n",
       "      <th>34885</th>\n",
       "      <td>Clothing &amp; Accessories</td>\n",
       "      <td>Amazon Brand - Symbol Men's Straight Fit Short...</td>\n",
       "      <td>3</td>\n",
       "    </tr>\n",
       "    <tr>\n",
       "      <th>7111</th>\n",
       "      <td>Household</td>\n",
       "      <td>Housey Wousey Polyester Striped Waterproof Sho...</td>\n",
       "      <td>0</td>\n",
       "    </tr>\n",
       "    <tr>\n",
       "      <th>3239</th>\n",
       "      <td>Household</td>\n",
       "      <td>3D Innovations CHPSS508-6 3D Printer Turbo Blo...</td>\n",
       "      <td>0</td>\n",
       "    </tr>\n",
       "    <tr>\n",
       "      <th>25777</th>\n",
       "      <td>Books</td>\n",
       "      <td>The Art of War</td>\n",
       "      <td>1</td>\n",
       "    </tr>\n",
       "    <tr>\n",
       "      <th>21428</th>\n",
       "      <td>Books</td>\n",
       "      <td>VAJIRAM &amp; RAVI INTERNATIONAL RELATION (2018) B...</td>\n",
       "      <td>1</td>\n",
       "    </tr>\n",
       "    <tr>\n",
       "      <th>1017</th>\n",
       "      <td>Household</td>\n",
       "      <td>Invezo Impression Portable Foldable Reusable G...</td>\n",
       "      <td>0</td>\n",
       "    </tr>\n",
       "    <tr>\n",
       "      <th>41463</th>\n",
       "      <td>Electronics</td>\n",
       "      <td>Kingston SSDNow A400 120GB SATA 3 Solid State ...</td>\n",
       "      <td>2</td>\n",
       "    </tr>\n",
       "    <tr>\n",
       "      <th>32650</th>\n",
       "      <td>Clothing &amp; Accessories</td>\n",
       "      <td>Babymoon (Set of 3) Princess Tutu Outfit - Bab...</td>\n",
       "      <td>3</td>\n",
       "    </tr>\n",
       "    <tr>\n",
       "      <th>7564</th>\n",
       "      <td>Household</td>\n",
       "      <td>Happy To Hang Amaze 6+6 Piece Polypropylene Ha...</td>\n",
       "      <td>0</td>\n",
       "    </tr>\n",
       "    <tr>\n",
       "      <th>38317</th>\n",
       "      <td>Clothing &amp; Accessories</td>\n",
       "      <td>Nike Men's &amp; Women's Cotton Fabrics &amp; Polyamid...</td>\n",
       "      <td>3</td>\n",
       "    </tr>\n",
       "    <tr>\n",
       "      <th>34049</th>\n",
       "      <td>Clothing &amp; Accessories</td>\n",
       "      <td>Kobo Cross Fitness Training Gym Gloves/Functio...</td>\n",
       "      <td>3</td>\n",
       "    </tr>\n",
       "    <tr>\n",
       "      <th>32114</th>\n",
       "      <td>Clothing &amp; Accessories</td>\n",
       "      <td>Mickey &amp; Friends Kids Boys Royal Blue Color Fu...</td>\n",
       "      <td>3</td>\n",
       "    </tr>\n",
       "    <tr>\n",
       "      <th>21456</th>\n",
       "      <td>Books</td>\n",
       "      <td>Story Books set of 10 in English with 101 Mora...</td>\n",
       "      <td>1</td>\n",
       "    </tr>\n",
       "    <tr>\n",
       "      <th>43556</th>\n",
       "      <td>Electronics</td>\n",
       "      <td>HP 23.8 inch (60.45 cm) Edge to Edge LED Monit...</td>\n",
       "      <td>2</td>\n",
       "    </tr>\n",
       "    <tr>\n",
       "      <th>8007</th>\n",
       "      <td>Household</td>\n",
       "      <td>Bathla X-Pres Presto - Medium Size Ironing Boa...</td>\n",
       "      <td>0</td>\n",
       "    </tr>\n",
       "    <tr>\n",
       "      <th>38657</th>\n",
       "      <td>Clothing &amp; Accessories</td>\n",
       "      <td>Titan Half Rim Rectangular Women's Spectacle F...</td>\n",
       "      <td>3</td>\n",
       "    </tr>\n",
       "    <tr>\n",
       "      <th>42734</th>\n",
       "      <td>Electronics</td>\n",
       "      <td>Seagate Expansion 1.5TB USB 3.0 Portable 2.5 I...</td>\n",
       "      <td>2</td>\n",
       "    </tr>\n",
       "    <tr>\n",
       "      <th>1482</th>\n",
       "      <td>Household</td>\n",
       "      <td>Kuchipoo Unisex Regular Fit Cotton Dungaree</td>\n",
       "      <td>0</td>\n",
       "    </tr>\n",
       "    <tr>\n",
       "      <th>20186</th>\n",
       "      <td>Books</td>\n",
       "      <td>Freedom Refined Sunflower Oil, 1L Freedom Refi...</td>\n",
       "      <td>1</td>\n",
       "    </tr>\n",
       "    <tr>\n",
       "      <th>21801</th>\n",
       "      <td>Books</td>\n",
       "      <td>MHT-CET Triumph Physics, Chemistry and Maths M...</td>\n",
       "      <td>1</td>\n",
       "    </tr>\n",
       "    <tr>\n",
       "      <th>36457</th>\n",
       "      <td>Clothing &amp; Accessories</td>\n",
       "      <td>Weavers Villa Women's Wool Shawl (WV-342-NEWGR...</td>\n",
       "      <td>3</td>\n",
       "    </tr>\n",
       "    <tr>\n",
       "      <th>42709</th>\n",
       "      <td>Electronics</td>\n",
       "      <td>Acer Predator Helios 300 PH315-51Core i5 8th G...</td>\n",
       "      <td>2</td>\n",
       "    </tr>\n",
       "    <tr>\n",
       "      <th>21419</th>\n",
       "      <td>Books</td>\n",
       "      <td>International Organization and Bilateral Relat...</td>\n",
       "      <td>1</td>\n",
       "    </tr>\n",
       "    <tr>\n",
       "      <th>38165</th>\n",
       "      <td>Clothing &amp; Accessories</td>\n",
       "      <td>TUCUTE Women's Beautiful Print with Invisible ...</td>\n",
       "      <td>3</td>\n",
       "    </tr>\n",
       "    <tr>\n",
       "      <th>32159</th>\n",
       "      <td>Clothing &amp; Accessories</td>\n",
       "      <td>US Polo Assn. Boys' T-Shirt</td>\n",
       "      <td>3</td>\n",
       "    </tr>\n",
       "    <tr>\n",
       "      <th>39000</th>\n",
       "      <td>Clothing &amp; Accessories</td>\n",
       "      <td>CHRONEX Ponytail Hair Bands Holders Elastic Ru...</td>\n",
       "      <td>3</td>\n",
       "    </tr>\n",
       "    <tr>\n",
       "      <th>35797</th>\n",
       "      <td>Clothing &amp; Accessories</td>\n",
       "      <td>Red Chief Men's Formal Shoes Spruce up your co...</td>\n",
       "      <td>3</td>\n",
       "    </tr>\n",
       "    <tr>\n",
       "      <th>33078</th>\n",
       "      <td>Clothing &amp; Accessories</td>\n",
       "      <td>Cherokee by Unlimited Girls' Regular Fit Short...</td>\n",
       "      <td>3</td>\n",
       "    </tr>\n",
       "    <tr>\n",
       "      <th>27051</th>\n",
       "      <td>Books</td>\n",
       "      <td>How Spacecraft Fly: Spaceflight Without Formul...</td>\n",
       "      <td>1</td>\n",
       "    </tr>\n",
       "    <tr>\n",
       "      <th>6092</th>\n",
       "      <td>Household</td>\n",
       "      <td>ONLY MAT Coir Door Mats, 30\" x 18\", Beige - Pa...</td>\n",
       "      <td>0</td>\n",
       "    </tr>\n",
       "    <tr>\n",
       "      <th>32604</th>\n",
       "      <td>Clothing &amp; Accessories</td>\n",
       "      <td>Fancydresswale Belly Dance Hip Scarf Waist Bel...</td>\n",
       "      <td>3</td>\n",
       "    </tr>\n",
       "    <tr>\n",
       "      <th>40082</th>\n",
       "      <td>Electronics</td>\n",
       "      <td>ADNET USB 2.0 High Speed Hub 4 Port AD-811B Th...</td>\n",
       "      <td>2</td>\n",
       "    </tr>\n",
       "    <tr>\n",
       "      <th>39150</th>\n",
       "      <td>Clothing &amp; Accessories</td>\n",
       "      <td>W for Woman Women's Cape Gilet</td>\n",
       "      <td>3</td>\n",
       "    </tr>\n",
       "    <tr>\n",
       "      <th>38965</th>\n",
       "      <td>Clothing &amp; Accessories</td>\n",
       "      <td>Chic 100% Wool Winter Warm Classic French Bere...</td>\n",
       "      <td>3</td>\n",
       "    </tr>\n",
       "  </tbody>\n",
       "</table>\n",
       "</div>"
      ],
      "text/plain": [
       "                       Labels   \n",
       "37985  Clothing & Accessories  \\\n",
       "1782                Household   \n",
       "24777                   Books   \n",
       "25279                   Books   \n",
       "2071                Household   \n",
       "34622  Clothing & Accessories   \n",
       "832                 Household   \n",
       "45302             Electronics   \n",
       "34647  Clothing & Accessories   \n",
       "2636                Household   \n",
       "32507  Clothing & Accessories   \n",
       "31792  Clothing & Accessories   \n",
       "44971             Electronics   \n",
       "23475                   Books   \n",
       "48262             Electronics   \n",
       "33605  Clothing & Accessories   \n",
       "34885  Clothing & Accessories   \n",
       "7111                Household   \n",
       "3239                Household   \n",
       "25777                   Books   \n",
       "21428                   Books   \n",
       "1017                Household   \n",
       "41463             Electronics   \n",
       "32650  Clothing & Accessories   \n",
       "7564                Household   \n",
       "38317  Clothing & Accessories   \n",
       "34049  Clothing & Accessories   \n",
       "32114  Clothing & Accessories   \n",
       "21456                   Books   \n",
       "43556             Electronics   \n",
       "8007                Household   \n",
       "38657  Clothing & Accessories   \n",
       "42734             Electronics   \n",
       "1482                Household   \n",
       "20186                   Books   \n",
       "21801                   Books   \n",
       "36457  Clothing & Accessories   \n",
       "42709             Electronics   \n",
       "21419                   Books   \n",
       "38165  Clothing & Accessories   \n",
       "32159  Clothing & Accessories   \n",
       "39000  Clothing & Accessories   \n",
       "35797  Clothing & Accessories   \n",
       "33078  Clothing & Accessories   \n",
       "27051                   Books   \n",
       "6092                Household   \n",
       "32604  Clothing & Accessories   \n",
       "40082             Electronics   \n",
       "39150  Clothing & Accessories   \n",
       "38965  Clothing & Accessories   \n",
       "\n",
       "                                                    Text  Type  \n",
       "37985  GOLDSTROMS Women's Maternity Pant/Jegging Gold...     3  \n",
       "1782   @home by Nilkamal Fern  6 Seater Dining Table ...     0  \n",
       "24777  The Will to Climb: Obsession and Commitment an...     1  \n",
       "25279  Zen in the Martial Arts Review ''If one of you...     1  \n",
       "2071   Aashi Enterprise Cane Art Contemporary Rattan ...     0  \n",
       "34622  Jockey Men's Cotton Thermal Long Pant Feel at ...     3  \n",
       "832                           Quechua Arpenaz 50 Hammock     0  \n",
       "45302  Zaptin 12X Universal Optical Zoom Lens Telesco...     2  \n",
       "34647  Hanes Men's Plain Thermal Bottom Hanes Men Gre...     3  \n",
       "2636   DecorNation Carissa Solid Wood Set of 3 Nestin...     0  \n",
       "32507  Boy's Ethnic Wear Cotton Kurta Payjama Set By ...     3  \n",
       "31792  Cherokee by Unlimited Boys' Regular Fit Shorts...     3  \n",
       "44971  Glive's L-SS3 FM Radio player Mini Speaker MP3...     2  \n",
       "23475  A Modern Approach to Verbal & Non-Verbal Reaso...     1  \n",
       "48262  Lowrence- Strike Digital Car Rear for Vcd/DVD/...     2  \n",
       "33605  United Colors of Benetton Girl's Sweatshirt Un...     3  \n",
       "34885  Amazon Brand - Symbol Men's Straight Fit Short...     3  \n",
       "7111   Housey Wousey Polyester Striped Waterproof Sho...     0  \n",
       "3239   3D Innovations CHPSS508-6 3D Printer Turbo Blo...     0  \n",
       "25777                                    The Art of War      1  \n",
       "21428  VAJIRAM & RAVI INTERNATIONAL RELATION (2018) B...     1  \n",
       "1017   Invezo Impression Portable Foldable Reusable G...     0  \n",
       "41463  Kingston SSDNow A400 120GB SATA 3 Solid State ...     2  \n",
       "32650  Babymoon (Set of 3) Princess Tutu Outfit - Bab...     3  \n",
       "7564   Happy To Hang Amaze 6+6 Piece Polypropylene Ha...     0  \n",
       "38317  Nike Men's & Women's Cotton Fabrics & Polyamid...     3  \n",
       "34049  Kobo Cross Fitness Training Gym Gloves/Functio...     3  \n",
       "32114  Mickey & Friends Kids Boys Royal Blue Color Fu...     3  \n",
       "21456  Story Books set of 10 in English with 101 Mora...     1  \n",
       "43556  HP 23.8 inch (60.45 cm) Edge to Edge LED Monit...     2  \n",
       "8007   Bathla X-Pres Presto - Medium Size Ironing Boa...     0  \n",
       "38657  Titan Half Rim Rectangular Women's Spectacle F...     3  \n",
       "42734  Seagate Expansion 1.5TB USB 3.0 Portable 2.5 I...     2  \n",
       "1482         Kuchipoo Unisex Regular Fit Cotton Dungaree     0  \n",
       "20186  Freedom Refined Sunflower Oil, 1L Freedom Refi...     1  \n",
       "21801  MHT-CET Triumph Physics, Chemistry and Maths M...     1  \n",
       "36457  Weavers Villa Women's Wool Shawl (WV-342-NEWGR...     3  \n",
       "42709  Acer Predator Helios 300 PH315-51Core i5 8th G...     2  \n",
       "21419  International Organization and Bilateral Relat...     1  \n",
       "38165  TUCUTE Women's Beautiful Print with Invisible ...     3  \n",
       "32159                        US Polo Assn. Boys' T-Shirt     3  \n",
       "39000  CHRONEX Ponytail Hair Bands Holders Elastic Ru...     3  \n",
       "35797  Red Chief Men's Formal Shoes Spruce up your co...     3  \n",
       "33078  Cherokee by Unlimited Girls' Regular Fit Short...     3  \n",
       "27051  How Spacecraft Fly: Spaceflight Without Formul...     1  \n",
       "6092   ONLY MAT Coir Door Mats, 30\" x 18\", Beige - Pa...     0  \n",
       "32604  Fancydresswale Belly Dance Hip Scarf Waist Bel...     3  \n",
       "40082  ADNET USB 2.0 High Speed Hub 4 Port AD-811B Th...     2  \n",
       "39150                     W for Woman Women's Cape Gilet     3  \n",
       "38965  Chic 100% Wool Winter Warm Classic French Bere...     3  "
      ]
     },
     "execution_count": 13,
     "metadata": {},
     "output_type": "execute_result"
    }
   ],
   "source": [
    "df_merged['Type'] = df_merged['Labels'].apply(\n",
    "    lambda x: 0 if x == 'Household'\n",
    "    else 1 if x == 'Books'\n",
    "    else 2 if x == 'Electronics'\n",
    "    else 3\n",
    ")\n",
    "df_merged.sample(50)"
   ]
  },
  {
   "cell_type": "markdown",
   "id": "4c3d9e31",
   "metadata": {},
   "source": [
    "### ***Splitting dataframe***"
   ]
  },
  {
   "cell_type": "code",
   "execution_count": 51,
   "id": "33f56db4",
   "metadata": {},
   "outputs": [],
   "source": [
    "cols = df_merged.select_dtypes(include=['object'])\n",
    "for col in cols.columns.values:\n",
    "    df_merged[col] = df_merged[col].fillna('')"
   ]
  },
  {
   "cell_type": "code",
   "execution_count": 58,
   "id": "58c9b901",
   "metadata": {},
   "outputs": [
    {
     "data": {
      "text/plain": [
       "44303    ZAAP ULTRA SLIM Bluetooth Universal Keyboard f...\n",
       "46505    Mobias Retails, Flexible Octopus Foldable Trip...\n",
       "31554    VIMAL Winter King Blended Thermal Top & Pyjama...\n",
       "7248     Ontime Modern Stainless Steel Bathroom Kit Hol...\n",
       "34038    CROSS LUGO Men's Genuine Leather Cut-To-Fit St...\n",
       "Name:  Text, dtype: object"
      ]
     },
     "execution_count": 58,
     "metadata": {},
     "output_type": "execute_result"
    }
   ],
   "source": [
    "from sklearn.model_selection import train_test_split\n",
    "\n",
    "X_train, X_test, y_train, y_test = train_test_split(df_merged[' Text'], df_merged['Type'], train_size=0.09, stratify=df_merged['Type'])\n",
    "X_train.head()"
   ]
  },
  {
   "cell_type": "markdown",
   "id": "bef83d57",
   "metadata": {},
   "source": [
    "### ***Importing BERT and getting embeding vectors for data***"
   ]
  },
  {
   "cell_type": "code",
   "execution_count": 15,
   "id": "9bca5f0a",
   "metadata": {},
   "outputs": [],
   "source": [
    "bert_preprocess = hub.KerasLayer(\"https://tfhub.dev/tensorflow/bert_en_uncased_preprocess/3\")\n",
    "bert_encoder = hub.KerasLayer(\"https://tfhub.dev/tensorflow/bert_en_uncased_L-12_H-768_A-12/4\")"
   ]
  },
  {
   "cell_type": "markdown",
   "id": "e171c03c",
   "metadata": {},
   "source": [
    "**Example getting embeding of sentence**"
   ]
  },
  {
   "cell_type": "code",
   "execution_count": 16,
   "id": "1e474ace",
   "metadata": {},
   "outputs": [
    {
     "data": {
      "text/plain": [
       "<tf.Tensor: shape=(2, 768), dtype=float32, numpy=\n",
       "array([[-0.84351695, -0.5132727 , -0.88845736, ..., -0.74748874,\n",
       "        -0.75314736,  0.91964495],\n",
       "       [-0.87208354, -0.50543964, -0.94446677, ..., -0.8584749 ,\n",
       "        -0.7174534 ,  0.88082975]], dtype=float32)>"
      ]
     },
     "execution_count": 16,
     "metadata": {},
     "output_type": "execute_result"
    }
   ],
   "source": [
    "def get_sentence_embeding(sentences):\n",
    "    preprocessed_text = bert_preprocess(sentences)\n",
    "    return bert_encoder(preprocessed_text)['pooled_output']\n",
    "\n",
    "get_sentence_embeding([\n",
    "    \"500$ discount. hurry up\", \n",
    "    \"Bhavin, are you up for a volleybal game tomorrow?\"]\n",
    ")"
   ]
  },
  {
   "cell_type": "markdown",
   "id": "ac747a7a",
   "metadata": {},
   "source": [
    "**Building model**"
   ]
  },
  {
   "cell_type": "code",
   "execution_count": null,
   "id": "c450c2d2",
   "metadata": {},
   "outputs": [],
   "source": [
    "#BERT Layer\n",
    "text_input = tf.keras.layers.Input(shape=(), dtype=tf.string, name = \"text\")\n",
    "preprocessed_inputs = bert_preprocess(text_input)\n",
    "encoded_outputs = bert_encoder(preprocessed_inputs)\n",
    "\n",
    "#Neural network\n",
    "layer = tf.keras.layers.Dropout(0.1, name='dropout') (encoded_outputs['pooled_output'])\n",
    "layer= tf.keras.layers.Dense(1, activation='sigmoid', name=\"output\")(layer)\n",
    "\n",
    "#Construct the final model\n",
    "model = tf.keras.Model(inputs=[text_input], outputs=[layer])"
   ]
  },
  {
   "cell_type": "code",
   "execution_count": 103,
   "id": "bdf90b7f",
   "metadata": {},
   "outputs": [
    {
     "name": "stdout",
     "output_type": "stream",
     "text": [
      "Model: \"model_14\"\n",
      "__________________________________________________________________________________________________\n",
      " Layer (type)                   Output Shape         Param #     Connected to                     \n",
      "==================================================================================================\n",
      " text (InputLayer)              [(None,)]            0           []                               \n",
      "                                                                                                  \n",
      " keras_layer (KerasLayer)       {'input_type_ids':   0           ['text[0][0]']                   \n",
      "                                (None, 128),                                                      \n",
      "                                 'input_word_ids':                                                \n",
      "                                (None, 128),                                                      \n",
      "                                 'input_mask': (Non                                               \n",
      "                                e, 128)}                                                          \n",
      "                                                                                                  \n",
      " keras_layer_1 (KerasLayer)     {'pooled_output': (  109482241   ['keras_layer[25][0]',           \n",
      "                                None, 768),                       'keras_layer[25][1]',           \n",
      "                                 'default': (None,                'keras_layer[25][2]']           \n",
      "                                768),                                                             \n",
      "                                 'encoder_outputs':                                               \n",
      "                                 [(None, 128, 768),                                               \n",
      "                                 (None, 128, 768),                                                \n",
      "                                 (None, 128, 768),                                                \n",
      "                                 (None, 128, 768),                                                \n",
      "                                 (None, 128, 768),                                                \n",
      "                                 (None, 128, 768),                                                \n",
      "                                 (None, 128, 768),                                                \n",
      "                                 (None, 128, 768),                                                \n",
      "                                 (None, 128, 768),                                                \n",
      "                                 (None, 128, 768),                                                \n",
      "                                 (None, 128, 768),                                                \n",
      "                                 (None, 128, 768)],                                               \n",
      "                                 'sequence_output':                                               \n",
      "                                 (None, 128, 768)}                                                \n",
      "                                                                                                  \n",
      " dropout (Dropout)              (None, 768)          0           ['keras_layer_1[25][13]']        \n",
      "                                                                                                  \n",
      " output (Dense)                 (None, 1)            769         ['dropout[0][0]']                \n",
      "                                                                                                  \n",
      "==================================================================================================\n",
      "Total params: 109,483,010\n",
      "Trainable params: 769\n",
      "Non-trainable params: 109,482,241\n",
      "__________________________________________________________________________________________________\n"
     ]
    }
   ],
   "source": [
    "model.summary()"
   ]
  },
  {
   "cell_type": "code",
   "execution_count": 101,
   "id": "a404687c",
   "metadata": {},
   "outputs": [],
   "source": [
    "model.compile(loss='binary_crossentropy', optimizer='adam',\n",
    "              metrics=[tf.keras.metrics.BinaryAccuracy(name = 'Accuracy'),\n",
    "                       tf.keras.metrics.Precision(name = 'Precision'), \n",
    "                       tf.keras.metrics.Recall(name = 'Recall')])"
   ]
  },
  {
   "cell_type": "code",
   "execution_count": 102,
   "id": "2fde521e",
   "metadata": {},
   "outputs": [
    {
     "name": "stdout",
     "output_type": "stream",
     "text": [
      "Epoch 1/3\n",
      "29/98 [=======>......................] - ETA: 5:16 - loss: -3.0530 - Accuracy: 0.2306 - Precision: 0.7465 - Recall: 0.9913"
     ]
    },
    {
     "ename": "KeyboardInterrupt",
     "evalue": "",
     "output_type": "error",
     "traceback": [
      "\u001b[1;31m---------------------------------------------------------------------------\u001b[0m",
      "\u001b[1;31mKeyboardInterrupt\u001b[0m                         Traceback (most recent call last)",
      "Cell \u001b[1;32mIn[102], line 3\u001b[0m\n\u001b[0;32m      1\u001b[0m \u001b[38;5;28;01mimport\u001b[39;00m \u001b[38;5;21;01mnumpy\u001b[39;00m \u001b[38;5;28;01mas\u001b[39;00m \u001b[38;5;21;01mnp\u001b[39;00m\n\u001b[0;32m      2\u001b[0m Y_train \u001b[38;5;241m=\u001b[39m np\u001b[38;5;241m.\u001b[39masarray(Y_train)\u001b[38;5;241m.\u001b[39mastype(np\u001b[38;5;241m.\u001b[39mint64)\n\u001b[1;32m----> 3\u001b[0m \u001b[43mmodel\u001b[49m\u001b[38;5;241;43m.\u001b[39;49m\u001b[43mfit\u001b[49m\u001b[43m(\u001b[49m\u001b[43mX_train\u001b[49m\u001b[43m,\u001b[49m\u001b[43m \u001b[49m\u001b[43my_train\u001b[49m\u001b[43m,\u001b[49m\u001b[43m \u001b[49m\u001b[43mepochs\u001b[49m\u001b[43m \u001b[49m\u001b[38;5;241;43m=\u001b[39;49m\u001b[43m \u001b[49m\u001b[38;5;241;43m3\u001b[39;49m\u001b[43m)\u001b[49m\n",
      "File \u001b[1;32m~\\AppData\\Local\\Programs\\Python\\Python310\\lib\\site-packages\\keras\\utils\\traceback_utils.py:65\u001b[0m, in \u001b[0;36mfilter_traceback.<locals>.error_handler\u001b[1;34m(*args, **kwargs)\u001b[0m\n\u001b[0;32m     63\u001b[0m filtered_tb \u001b[38;5;241m=\u001b[39m \u001b[38;5;28;01mNone\u001b[39;00m\n\u001b[0;32m     64\u001b[0m \u001b[38;5;28;01mtry\u001b[39;00m:\n\u001b[1;32m---> 65\u001b[0m     \u001b[38;5;28;01mreturn\u001b[39;00m fn(\u001b[38;5;241m*\u001b[39margs, \u001b[38;5;241m*\u001b[39m\u001b[38;5;241m*\u001b[39mkwargs)\n\u001b[0;32m     66\u001b[0m \u001b[38;5;28;01mexcept\u001b[39;00m \u001b[38;5;167;01mException\u001b[39;00m \u001b[38;5;28;01mas\u001b[39;00m e:\n\u001b[0;32m     67\u001b[0m     filtered_tb \u001b[38;5;241m=\u001b[39m _process_traceback_frames(e\u001b[38;5;241m.\u001b[39m__traceback__)\n",
      "File \u001b[1;32m~\\AppData\\Local\\Programs\\Python\\Python310\\lib\\site-packages\\keras\\engine\\training.py:1564\u001b[0m, in \u001b[0;36mModel.fit\u001b[1;34m(self, x, y, batch_size, epochs, verbose, callbacks, validation_split, validation_data, shuffle, class_weight, sample_weight, initial_epoch, steps_per_epoch, validation_steps, validation_batch_size, validation_freq, max_queue_size, workers, use_multiprocessing)\u001b[0m\n\u001b[0;32m   1556\u001b[0m \u001b[38;5;28;01mwith\u001b[39;00m tf\u001b[38;5;241m.\u001b[39mprofiler\u001b[38;5;241m.\u001b[39mexperimental\u001b[38;5;241m.\u001b[39mTrace(\n\u001b[0;32m   1557\u001b[0m     \u001b[38;5;124m\"\u001b[39m\u001b[38;5;124mtrain\u001b[39m\u001b[38;5;124m\"\u001b[39m,\n\u001b[0;32m   1558\u001b[0m     epoch_num\u001b[38;5;241m=\u001b[39mepoch,\n\u001b[1;32m   (...)\u001b[0m\n\u001b[0;32m   1561\u001b[0m     _r\u001b[38;5;241m=\u001b[39m\u001b[38;5;241m1\u001b[39m,\n\u001b[0;32m   1562\u001b[0m ):\n\u001b[0;32m   1563\u001b[0m     callbacks\u001b[38;5;241m.\u001b[39mon_train_batch_begin(step)\n\u001b[1;32m-> 1564\u001b[0m     tmp_logs \u001b[38;5;241m=\u001b[39m \u001b[38;5;28;43mself\u001b[39;49m\u001b[38;5;241;43m.\u001b[39;49m\u001b[43mtrain_function\u001b[49m\u001b[43m(\u001b[49m\u001b[43miterator\u001b[49m\u001b[43m)\u001b[49m\n\u001b[0;32m   1565\u001b[0m     \u001b[38;5;28;01mif\u001b[39;00m data_handler\u001b[38;5;241m.\u001b[39mshould_sync:\n\u001b[0;32m   1566\u001b[0m         context\u001b[38;5;241m.\u001b[39masync_wait()\n",
      "File \u001b[1;32m~\\AppData\\Local\\Programs\\Python\\Python310\\lib\\site-packages\\tensorflow\\python\\util\\traceback_utils.py:150\u001b[0m, in \u001b[0;36mfilter_traceback.<locals>.error_handler\u001b[1;34m(*args, **kwargs)\u001b[0m\n\u001b[0;32m    148\u001b[0m filtered_tb \u001b[38;5;241m=\u001b[39m \u001b[38;5;28;01mNone\u001b[39;00m\n\u001b[0;32m    149\u001b[0m \u001b[38;5;28;01mtry\u001b[39;00m:\n\u001b[1;32m--> 150\u001b[0m   \u001b[38;5;28;01mreturn\u001b[39;00m fn(\u001b[38;5;241m*\u001b[39margs, \u001b[38;5;241m*\u001b[39m\u001b[38;5;241m*\u001b[39mkwargs)\n\u001b[0;32m    151\u001b[0m \u001b[38;5;28;01mexcept\u001b[39;00m \u001b[38;5;167;01mException\u001b[39;00m \u001b[38;5;28;01mas\u001b[39;00m e:\n\u001b[0;32m    152\u001b[0m   filtered_tb \u001b[38;5;241m=\u001b[39m _process_traceback_frames(e\u001b[38;5;241m.\u001b[39m__traceback__)\n",
      "File \u001b[1;32m~\\AppData\\Local\\Programs\\Python\\Python310\\lib\\site-packages\\tensorflow\\python\\eager\\def_function.py:915\u001b[0m, in \u001b[0;36mFunction.__call__\u001b[1;34m(self, *args, **kwds)\u001b[0m\n\u001b[0;32m    912\u001b[0m compiler \u001b[38;5;241m=\u001b[39m \u001b[38;5;124m\"\u001b[39m\u001b[38;5;124mxla\u001b[39m\u001b[38;5;124m\"\u001b[39m \u001b[38;5;28;01mif\u001b[39;00m \u001b[38;5;28mself\u001b[39m\u001b[38;5;241m.\u001b[39m_jit_compile \u001b[38;5;28;01melse\u001b[39;00m \u001b[38;5;124m\"\u001b[39m\u001b[38;5;124mnonXla\u001b[39m\u001b[38;5;124m\"\u001b[39m\n\u001b[0;32m    914\u001b[0m \u001b[38;5;28;01mwith\u001b[39;00m OptionalXlaContext(\u001b[38;5;28mself\u001b[39m\u001b[38;5;241m.\u001b[39m_jit_compile):\n\u001b[1;32m--> 915\u001b[0m   result \u001b[38;5;241m=\u001b[39m \u001b[38;5;28mself\u001b[39m\u001b[38;5;241m.\u001b[39m_call(\u001b[38;5;241m*\u001b[39margs, \u001b[38;5;241m*\u001b[39m\u001b[38;5;241m*\u001b[39mkwds)\n\u001b[0;32m    917\u001b[0m new_tracing_count \u001b[38;5;241m=\u001b[39m \u001b[38;5;28mself\u001b[39m\u001b[38;5;241m.\u001b[39mexperimental_get_tracing_count()\n\u001b[0;32m    918\u001b[0m without_tracing \u001b[38;5;241m=\u001b[39m (tracing_count \u001b[38;5;241m==\u001b[39m new_tracing_count)\n",
      "File \u001b[1;32m~\\AppData\\Local\\Programs\\Python\\Python310\\lib\\site-packages\\tensorflow\\python\\eager\\def_function.py:947\u001b[0m, in \u001b[0;36mFunction._call\u001b[1;34m(self, *args, **kwds)\u001b[0m\n\u001b[0;32m    944\u001b[0m   \u001b[38;5;28mself\u001b[39m\u001b[38;5;241m.\u001b[39m_lock\u001b[38;5;241m.\u001b[39mrelease()\n\u001b[0;32m    945\u001b[0m   \u001b[38;5;66;03m# In this case we have created variables on the first call, so we run the\u001b[39;00m\n\u001b[0;32m    946\u001b[0m   \u001b[38;5;66;03m# defunned version which is guaranteed to never create variables.\u001b[39;00m\n\u001b[1;32m--> 947\u001b[0m   \u001b[38;5;28;01mreturn\u001b[39;00m \u001b[38;5;28mself\u001b[39m\u001b[38;5;241m.\u001b[39m_stateless_fn(\u001b[38;5;241m*\u001b[39margs, \u001b[38;5;241m*\u001b[39m\u001b[38;5;241m*\u001b[39mkwds)  \u001b[38;5;66;03m# pylint: disable=not-callable\u001b[39;00m\n\u001b[0;32m    948\u001b[0m \u001b[38;5;28;01melif\u001b[39;00m \u001b[38;5;28mself\u001b[39m\u001b[38;5;241m.\u001b[39m_stateful_fn \u001b[38;5;129;01mis\u001b[39;00m \u001b[38;5;129;01mnot\u001b[39;00m \u001b[38;5;28;01mNone\u001b[39;00m:\n\u001b[0;32m    949\u001b[0m   \u001b[38;5;66;03m# Release the lock early so that multiple threads can perform the call\u001b[39;00m\n\u001b[0;32m    950\u001b[0m   \u001b[38;5;66;03m# in parallel.\u001b[39;00m\n\u001b[0;32m    951\u001b[0m   \u001b[38;5;28mself\u001b[39m\u001b[38;5;241m.\u001b[39m_lock\u001b[38;5;241m.\u001b[39mrelease()\n",
      "File \u001b[1;32m~\\AppData\\Local\\Programs\\Python\\Python310\\lib\\site-packages\\tensorflow\\python\\eager\\function.py:2496\u001b[0m, in \u001b[0;36mFunction.__call__\u001b[1;34m(self, *args, **kwargs)\u001b[0m\n\u001b[0;32m   2493\u001b[0m \u001b[38;5;28;01mwith\u001b[39;00m \u001b[38;5;28mself\u001b[39m\u001b[38;5;241m.\u001b[39m_lock:\n\u001b[0;32m   2494\u001b[0m   (graph_function,\n\u001b[0;32m   2495\u001b[0m    filtered_flat_args) \u001b[38;5;241m=\u001b[39m \u001b[38;5;28mself\u001b[39m\u001b[38;5;241m.\u001b[39m_maybe_define_function(args, kwargs)\n\u001b[1;32m-> 2496\u001b[0m \u001b[38;5;28;01mreturn\u001b[39;00m \u001b[43mgraph_function\u001b[49m\u001b[38;5;241;43m.\u001b[39;49m\u001b[43m_call_flat\u001b[49m\u001b[43m(\u001b[49m\n\u001b[0;32m   2497\u001b[0m \u001b[43m    \u001b[49m\u001b[43mfiltered_flat_args\u001b[49m\u001b[43m,\u001b[49m\u001b[43m \u001b[49m\u001b[43mcaptured_inputs\u001b[49m\u001b[38;5;241;43m=\u001b[39;49m\u001b[43mgraph_function\u001b[49m\u001b[38;5;241;43m.\u001b[39;49m\u001b[43mcaptured_inputs\u001b[49m\u001b[43m)\u001b[49m\n",
      "File \u001b[1;32m~\\AppData\\Local\\Programs\\Python\\Python310\\lib\\site-packages\\tensorflow\\python\\eager\\function.py:1862\u001b[0m, in \u001b[0;36mConcreteFunction._call_flat\u001b[1;34m(self, args, captured_inputs, cancellation_manager)\u001b[0m\n\u001b[0;32m   1858\u001b[0m possible_gradient_type \u001b[38;5;241m=\u001b[39m gradients_util\u001b[38;5;241m.\u001b[39mPossibleTapeGradientTypes(args)\n\u001b[0;32m   1859\u001b[0m \u001b[38;5;28;01mif\u001b[39;00m (possible_gradient_type \u001b[38;5;241m==\u001b[39m gradients_util\u001b[38;5;241m.\u001b[39mPOSSIBLE_GRADIENT_TYPES_NONE\n\u001b[0;32m   1860\u001b[0m     \u001b[38;5;129;01mand\u001b[39;00m executing_eagerly):\n\u001b[0;32m   1861\u001b[0m   \u001b[38;5;66;03m# No tape is watching; skip to running the function.\u001b[39;00m\n\u001b[1;32m-> 1862\u001b[0m   \u001b[38;5;28;01mreturn\u001b[39;00m \u001b[38;5;28mself\u001b[39m\u001b[38;5;241m.\u001b[39m_build_call_outputs(\u001b[38;5;28;43mself\u001b[39;49m\u001b[38;5;241;43m.\u001b[39;49m\u001b[43m_inference_function\u001b[49m\u001b[38;5;241;43m.\u001b[39;49m\u001b[43mcall\u001b[49m\u001b[43m(\u001b[49m\n\u001b[0;32m   1863\u001b[0m \u001b[43m      \u001b[49m\u001b[43mctx\u001b[49m\u001b[43m,\u001b[49m\u001b[43m \u001b[49m\u001b[43margs\u001b[49m\u001b[43m,\u001b[49m\u001b[43m \u001b[49m\u001b[43mcancellation_manager\u001b[49m\u001b[38;5;241;43m=\u001b[39;49m\u001b[43mcancellation_manager\u001b[49m\u001b[43m)\u001b[49m)\n\u001b[0;32m   1864\u001b[0m forward_backward \u001b[38;5;241m=\u001b[39m \u001b[38;5;28mself\u001b[39m\u001b[38;5;241m.\u001b[39m_select_forward_and_backward_functions(\n\u001b[0;32m   1865\u001b[0m     args,\n\u001b[0;32m   1866\u001b[0m     possible_gradient_type,\n\u001b[0;32m   1867\u001b[0m     executing_eagerly)\n\u001b[0;32m   1868\u001b[0m forward_function, args_with_tangents \u001b[38;5;241m=\u001b[39m forward_backward\u001b[38;5;241m.\u001b[39mforward()\n",
      "File \u001b[1;32m~\\AppData\\Local\\Programs\\Python\\Python310\\lib\\site-packages\\tensorflow\\python\\eager\\function.py:499\u001b[0m, in \u001b[0;36m_EagerDefinedFunction.call\u001b[1;34m(self, ctx, args, cancellation_manager)\u001b[0m\n\u001b[0;32m    497\u001b[0m \u001b[38;5;28;01mwith\u001b[39;00m _InterpolateFunctionError(\u001b[38;5;28mself\u001b[39m):\n\u001b[0;32m    498\u001b[0m   \u001b[38;5;28;01mif\u001b[39;00m cancellation_manager \u001b[38;5;129;01mis\u001b[39;00m \u001b[38;5;28;01mNone\u001b[39;00m:\n\u001b[1;32m--> 499\u001b[0m     outputs \u001b[38;5;241m=\u001b[39m \u001b[43mexecute\u001b[49m\u001b[38;5;241;43m.\u001b[39;49m\u001b[43mexecute\u001b[49m\u001b[43m(\u001b[49m\n\u001b[0;32m    500\u001b[0m \u001b[43m        \u001b[49m\u001b[38;5;28;43mstr\u001b[39;49m\u001b[43m(\u001b[49m\u001b[38;5;28;43mself\u001b[39;49m\u001b[38;5;241;43m.\u001b[39;49m\u001b[43msignature\u001b[49m\u001b[38;5;241;43m.\u001b[39;49m\u001b[43mname\u001b[49m\u001b[43m)\u001b[49m\u001b[43m,\u001b[49m\n\u001b[0;32m    501\u001b[0m \u001b[43m        \u001b[49m\u001b[43mnum_outputs\u001b[49m\u001b[38;5;241;43m=\u001b[39;49m\u001b[38;5;28;43mself\u001b[39;49m\u001b[38;5;241;43m.\u001b[39;49m\u001b[43m_num_outputs\u001b[49m\u001b[43m,\u001b[49m\n\u001b[0;32m    502\u001b[0m \u001b[43m        \u001b[49m\u001b[43minputs\u001b[49m\u001b[38;5;241;43m=\u001b[39;49m\u001b[43margs\u001b[49m\u001b[43m,\u001b[49m\n\u001b[0;32m    503\u001b[0m \u001b[43m        \u001b[49m\u001b[43mattrs\u001b[49m\u001b[38;5;241;43m=\u001b[39;49m\u001b[43mattrs\u001b[49m\u001b[43m,\u001b[49m\n\u001b[0;32m    504\u001b[0m \u001b[43m        \u001b[49m\u001b[43mctx\u001b[49m\u001b[38;5;241;43m=\u001b[39;49m\u001b[43mctx\u001b[49m\u001b[43m)\u001b[49m\n\u001b[0;32m    505\u001b[0m   \u001b[38;5;28;01melse\u001b[39;00m:\n\u001b[0;32m    506\u001b[0m     outputs \u001b[38;5;241m=\u001b[39m execute\u001b[38;5;241m.\u001b[39mexecute_with_cancellation(\n\u001b[0;32m    507\u001b[0m         \u001b[38;5;28mstr\u001b[39m(\u001b[38;5;28mself\u001b[39m\u001b[38;5;241m.\u001b[39msignature\u001b[38;5;241m.\u001b[39mname),\n\u001b[0;32m    508\u001b[0m         num_outputs\u001b[38;5;241m=\u001b[39m\u001b[38;5;28mself\u001b[39m\u001b[38;5;241m.\u001b[39m_num_outputs,\n\u001b[1;32m   (...)\u001b[0m\n\u001b[0;32m    511\u001b[0m         ctx\u001b[38;5;241m=\u001b[39mctx,\n\u001b[0;32m    512\u001b[0m         cancellation_manager\u001b[38;5;241m=\u001b[39mcancellation_manager)\n",
      "File \u001b[1;32m~\\AppData\\Local\\Programs\\Python\\Python310\\lib\\site-packages\\tensorflow\\python\\eager\\execute.py:54\u001b[0m, in \u001b[0;36mquick_execute\u001b[1;34m(op_name, num_outputs, inputs, attrs, ctx, name)\u001b[0m\n\u001b[0;32m     52\u001b[0m \u001b[38;5;28;01mtry\u001b[39;00m:\n\u001b[0;32m     53\u001b[0m   ctx\u001b[38;5;241m.\u001b[39mensure_initialized()\n\u001b[1;32m---> 54\u001b[0m   tensors \u001b[38;5;241m=\u001b[39m \u001b[43mpywrap_tfe\u001b[49m\u001b[38;5;241;43m.\u001b[39;49m\u001b[43mTFE_Py_Execute\u001b[49m\u001b[43m(\u001b[49m\u001b[43mctx\u001b[49m\u001b[38;5;241;43m.\u001b[39;49m\u001b[43m_handle\u001b[49m\u001b[43m,\u001b[49m\u001b[43m \u001b[49m\u001b[43mdevice_name\u001b[49m\u001b[43m,\u001b[49m\u001b[43m \u001b[49m\u001b[43mop_name\u001b[49m\u001b[43m,\u001b[49m\n\u001b[0;32m     55\u001b[0m \u001b[43m                                      \u001b[49m\u001b[43minputs\u001b[49m\u001b[43m,\u001b[49m\u001b[43m \u001b[49m\u001b[43mattrs\u001b[49m\u001b[43m,\u001b[49m\u001b[43m \u001b[49m\u001b[43mnum_outputs\u001b[49m\u001b[43m)\u001b[49m\n\u001b[0;32m     56\u001b[0m \u001b[38;5;28;01mexcept\u001b[39;00m core\u001b[38;5;241m.\u001b[39m_NotOkStatusException \u001b[38;5;28;01mas\u001b[39;00m e:\n\u001b[0;32m     57\u001b[0m   \u001b[38;5;28;01mif\u001b[39;00m name \u001b[38;5;129;01mis\u001b[39;00m \u001b[38;5;129;01mnot\u001b[39;00m \u001b[38;5;28;01mNone\u001b[39;00m:\n",
      "\u001b[1;31mKeyboardInterrupt\u001b[0m: "
     ]
    }
   ],
   "source": [
    "import numpy as np\n",
    "Y_train = np.asarray(Y_train).astype(np.int64)\n",
    "model.fit(X_train, y_train, epochs = 3)"
   ]
  },
  {
   "cell_type": "code",
   "execution_count": null,
   "id": "ab2a42f8",
   "metadata": {},
   "outputs": [],
   "source": []
  }
 ],
 "metadata": {
  "kernelspec": {
   "display_name": "Python 3 (ipykernel)",
   "language": "python",
   "name": "python3"
  },
  "language_info": {
   "codemirror_mode": {
    "name": "ipython",
    "version": 3
   },
   "file_extension": ".py",
   "mimetype": "text/x-python",
   "name": "python",
   "nbconvert_exporter": "python",
   "pygments_lexer": "ipython3",
   "version": "3.10.11"
  }
 },
 "nbformat": 4,
 "nbformat_minor": 5
}
