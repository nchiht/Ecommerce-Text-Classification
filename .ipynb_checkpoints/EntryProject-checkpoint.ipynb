{
 "cells": [
  {
   "cell_type": "markdown",
   "id": "95a72b02",
   "metadata": {},
   "source": [
    "# Importing library and data"
   ]
  },
  {
   "cell_type": "code",
   "execution_count": null,
   "id": "e61f2219",
   "metadata": {},
   "outputs": [],
   "source": [
    "pip install tensorflow_text"
   ]
  },
  {
   "cell_type": "code",
   "execution_count": 5,
   "id": "e8f85963-5468-4138-b981-d3e82c309f84",
   "metadata": {},
   "outputs": [],
   "source": [
    "import tensorflow as tf\n",
    "import tensorflow_hub as hub\n",
    "import tensorflow_text as text"
   ]
  },
  {
   "cell_type": "code",
   "execution_count": 6,
   "id": "dec15dcc",
   "metadata": {},
   "outputs": [
    {
     "data": {
      "text/html": [
       "<div>\n",
       "<style scoped>\n",
       "    .dataframe tbody tr th:only-of-type {\n",
       "        vertical-align: middle;\n",
       "    }\n",
       "\n",
       "    .dataframe tbody tr th {\n",
       "        vertical-align: top;\n",
       "    }\n",
       "\n",
       "    .dataframe thead th {\n",
       "        text-align: right;\n",
       "    }\n",
       "</style>\n",
       "<table border=\"1\" class=\"dataframe\">\n",
       "  <thead>\n",
       "    <tr style=\"text-align: right;\">\n",
       "      <th></th>\n",
       "      <th>Labels</th>\n",
       "      <th>Text</th>\n",
       "    </tr>\n",
       "  </thead>\n",
       "  <tbody>\n",
       "    <tr>\n",
       "      <th>0</th>\n",
       "      <td>Household</td>\n",
       "      <td>Paper Plane Design Framed Wall Hanging Motivat...</td>\n",
       "    </tr>\n",
       "    <tr>\n",
       "      <th>1</th>\n",
       "      <td>Household</td>\n",
       "      <td>SAF 'Floral' Framed Painting (Wood, 30 inch x ...</td>\n",
       "    </tr>\n",
       "    <tr>\n",
       "      <th>2</th>\n",
       "      <td>Household</td>\n",
       "      <td>SAF 'UV Textured Modern Art Print Framed' Pain...</td>\n",
       "    </tr>\n",
       "    <tr>\n",
       "      <th>3</th>\n",
       "      <td>Household</td>\n",
       "      <td>SAF Flower Print Framed Painting (Synthetic, 1...</td>\n",
       "    </tr>\n",
       "    <tr>\n",
       "      <th>4</th>\n",
       "      <td>Household</td>\n",
       "      <td>Incredible Gifts India Wooden Happy Birthday U...</td>\n",
       "    </tr>\n",
       "    <tr>\n",
       "      <th>5</th>\n",
       "      <td>Household</td>\n",
       "      <td>Pitaara Box Romantic Venice Canvas Painting 6m...</td>\n",
       "    </tr>\n",
       "    <tr>\n",
       "      <th>6</th>\n",
       "      <td>Household</td>\n",
       "      <td>Paper Plane Design Starry Night Vangoh Wall Ar...</td>\n",
       "    </tr>\n",
       "    <tr>\n",
       "      <th>7</th>\n",
       "      <td>Household</td>\n",
       "      <td>Pitaara Box Romantic Venice Canvas Painting 6m...</td>\n",
       "    </tr>\n",
       "    <tr>\n",
       "      <th>8</th>\n",
       "      <td>Household</td>\n",
       "      <td>SAF 'Ganesh Modern Art Print' Painting (Synthe...</td>\n",
       "    </tr>\n",
       "    <tr>\n",
       "      <th>9</th>\n",
       "      <td>Household</td>\n",
       "      <td>Paintings Villa UV Textured Modern Art Print F...</td>\n",
       "    </tr>\n",
       "  </tbody>\n",
       "</table>\n",
       "</div>"
      ],
      "text/plain": [
       "      Labels                                               Text\n",
       "0  Household  Paper Plane Design Framed Wall Hanging Motivat...\n",
       "1  Household  SAF 'Floral' Framed Painting (Wood, 30 inch x ...\n",
       "2  Household  SAF 'UV Textured Modern Art Print Framed' Pain...\n",
       "3  Household  SAF Flower Print Framed Painting (Synthetic, 1...\n",
       "4  Household  Incredible Gifts India Wooden Happy Birthday U...\n",
       "5  Household  Pitaara Box Romantic Venice Canvas Painting 6m...\n",
       "6  Household  Paper Plane Design Starry Night Vangoh Wall Ar...\n",
       "7  Household  Pitaara Box Romantic Venice Canvas Painting 6m...\n",
       "8  Household  SAF 'Ganesh Modern Art Print' Painting (Synthe...\n",
       "9  Household  Paintings Villa UV Textured Modern Art Print F..."
      ]
     },
     "execution_count": 6,
     "metadata": {},
     "output_type": "execute_result"
    }
   ],
   "source": [
    "import pandas as pd\n",
    "\n",
    "dt = pd.read_csv('./datasets/ecommerceDataset.csv')\n",
    "dt.head(10)"
   ]
  },
  {
   "cell_type": "markdown",
   "id": "2f8c8a39",
   "metadata": {},
   "source": [
    "## **Data preprocessing**\n",
    "### *Getting all categories*"
   ]
  },
  {
   "cell_type": "code",
   "execution_count": 7,
   "id": "ab6fa897",
   "metadata": {},
   "outputs": [
    {
     "name": "stdout",
     "output_type": "stream",
     "text": [
      "['Household' 'Books' 'Clothing & Accessories' 'Electronics']\n"
     ]
    }
   ],
   "source": [
    "categories = dt['Labels'].unique()\n",
    "print(categories)"
   ]
  },
  {
   "cell_type": "code",
   "execution_count": 8,
   "id": "e5bc0a7c",
   "metadata": {},
   "outputs": [
    {
     "data": {
      "text/html": [
       "<div>\n",
       "<style scoped>\n",
       "    .dataframe tbody tr th:only-of-type {\n",
       "        vertical-align: middle;\n",
       "    }\n",
       "\n",
       "    .dataframe tbody tr th {\n",
       "        vertical-align: top;\n",
       "    }\n",
       "\n",
       "    .dataframe thead tr th {\n",
       "        text-align: left;\n",
       "    }\n",
       "\n",
       "    .dataframe thead tr:last-of-type th {\n",
       "        text-align: right;\n",
       "    }\n",
       "</style>\n",
       "<table border=\"1\" class=\"dataframe\">\n",
       "  <thead>\n",
       "    <tr>\n",
       "      <th></th>\n",
       "      <th colspan=\"4\" halign=\"left\">Text</th>\n",
       "    </tr>\n",
       "    <tr>\n",
       "      <th></th>\n",
       "      <th>count</th>\n",
       "      <th>unique</th>\n",
       "      <th>top</th>\n",
       "      <th>freq</th>\n",
       "    </tr>\n",
       "    <tr>\n",
       "      <th>Labels</th>\n",
       "      <th></th>\n",
       "      <th></th>\n",
       "      <th></th>\n",
       "      <th></th>\n",
       "    </tr>\n",
       "  </thead>\n",
       "  <tbody>\n",
       "    <tr>\n",
       "      <th>Books</th>\n",
       "      <td>11820</td>\n",
       "      <td>6256</td>\n",
       "      <td>Think &amp; Grow Rich About the Author NAPOLEON HI...</td>\n",
       "      <td>30</td>\n",
       "    </tr>\n",
       "    <tr>\n",
       "      <th>Clothing &amp; Accessories</th>\n",
       "      <td>8670</td>\n",
       "      <td>5674</td>\n",
       "      <td>Diverse Men's Formal Shirt Diverse is a wester...</td>\n",
       "      <td>23</td>\n",
       "    </tr>\n",
       "    <tr>\n",
       "      <th>Electronics</th>\n",
       "      <td>10621</td>\n",
       "      <td>5308</td>\n",
       "      <td>HP 680 Original Ink Advantage Cartridge (Black...</td>\n",
       "      <td>26</td>\n",
       "    </tr>\n",
       "    <tr>\n",
       "      <th>Household</th>\n",
       "      <td>19313</td>\n",
       "      <td>10564</td>\n",
       "      <td>Nilkamal Series-24 Chest of Drawers (Cream Tra...</td>\n",
       "      <td>13</td>\n",
       "    </tr>\n",
       "  </tbody>\n",
       "</table>\n",
       "</div>"
      ],
      "text/plain": [
       "                         Text          \n",
       "                        count unique   \n",
       "Labels                                 \n",
       "Books                   11820   6256  \\\n",
       "Clothing & Accessories   8670   5674   \n",
       "Electronics             10621   5308   \n",
       "Household               19313  10564   \n",
       "\n",
       "                                                                                \n",
       "                                                                      top freq  \n",
       "Labels                                                                          \n",
       "Books                   Think & Grow Rich About the Author NAPOLEON HI...   30  \n",
       "Clothing & Accessories  Diverse Men's Formal Shirt Diverse is a wester...   23  \n",
       "Electronics             HP 680 Original Ink Advantage Cartridge (Black...   26  \n",
       "Household               Nilkamal Series-24 Chest of Drawers (Cream Tra...   13  "
      ]
     },
     "execution_count": 8,
     "metadata": {},
     "output_type": "execute_result"
    }
   ],
   "source": [
    "dt.groupby('Labels').describe()"
   ]
  },
  {
   "cell_type": "markdown",
   "id": "ce58d0c6",
   "metadata": {},
   "source": [
    "### *Handling dataframes*"
   ]
  },
  {
   "cell_type": "code",
   "execution_count": 9,
   "id": "11c1c4d2",
   "metadata": {
    "scrolled": true
   },
   "outputs": [
    {
     "data": {
      "text/plain": [
       "(8671, 2)"
      ]
     },
     "execution_count": 9,
     "metadata": {},
     "output_type": "execute_result"
    }
   ],
   "source": [
    "df_accessories = dt[dt['Labels'] == 'Clothing & Accessories']\n",
    "df_accessories.head(10)\n",
    "df_accessories.shape\n"
   ]
  },
  {
   "cell_type": "code",
   "execution_count": 10,
   "id": "8dde9a98",
   "metadata": {},
   "outputs": [
    {
     "data": {
      "text/plain": [
       "(11820, 2)"
      ]
     },
     "execution_count": 10,
     "metadata": {},
     "output_type": "execute_result"
    }
   ],
   "source": [
    "df_books = dt[dt['Labels'] == 'Books']\n",
    "df_books.shape"
   ]
  },
  {
   "cell_type": "code",
   "execution_count": 11,
   "id": "f733c46d",
   "metadata": {},
   "outputs": [
    {
     "data": {
      "text/plain": [
       "(19313, 2)"
      ]
     },
     "execution_count": 11,
     "metadata": {},
     "output_type": "execute_result"
    }
   ],
   "source": [
    "df_household = dt[dt['Labels'] == 'Household']\n",
    "df_household.shape"
   ]
  },
  {
   "cell_type": "code",
   "execution_count": 12,
   "id": "d98038cb",
   "metadata": {},
   "outputs": [
    {
     "data": {
      "text/plain": [
       "(10621, 2)"
      ]
     },
     "execution_count": 12,
     "metadata": {},
     "output_type": "execute_result"
    }
   ],
   "source": [
    "df_elec = dt[dt['Labels'] == 'Electronics']\n",
    "df_elec.shape"
   ]
  },
  {
   "cell_type": "markdown",
   "id": "31e93b4c",
   "metadata": {},
   "source": [
    "### ***Balancing dataframes***"
   ]
  },
  {
   "cell_type": "code",
   "execution_count": 13,
   "id": "7840e9f8",
   "metadata": {},
   "outputs": [
    {
     "data": {
      "text/plain": [
       "(8671, 2)"
      ]
     },
     "execution_count": 13,
     "metadata": {},
     "output_type": "execute_result"
    }
   ],
   "source": [
    "df_books_downsample = df_books.head(df_accessories.shape[0])\n",
    "df_books_downsample.shape"
   ]
  },
  {
   "cell_type": "code",
   "execution_count": 14,
   "id": "4876eb86",
   "metadata": {},
   "outputs": [
    {
     "data": {
      "text/plain": [
       "(8671, 2)"
      ]
     },
     "execution_count": 14,
     "metadata": {},
     "output_type": "execute_result"
    }
   ],
   "source": [
    "df_household_downsample = df_household.head(df_accessories.shape[0])\n",
    "df_household_downsample.shape"
   ]
  },
  {
   "cell_type": "code",
   "execution_count": 15,
   "id": "7b8f58fe",
   "metadata": {},
   "outputs": [
    {
     "data": {
      "text/html": [
       "<div>\n",
       "<style scoped>\n",
       "    .dataframe tbody tr th:only-of-type {\n",
       "        vertical-align: middle;\n",
       "    }\n",
       "\n",
       "    .dataframe tbody tr th {\n",
       "        vertical-align: top;\n",
       "    }\n",
       "\n",
       "    .dataframe thead th {\n",
       "        text-align: right;\n",
       "    }\n",
       "</style>\n",
       "<table border=\"1\" class=\"dataframe\">\n",
       "  <thead>\n",
       "    <tr style=\"text-align: right;\">\n",
       "      <th></th>\n",
       "      <th>Labels</th>\n",
       "      <th>Text</th>\n",
       "    </tr>\n",
       "  </thead>\n",
       "  <tbody>\n",
       "    <tr>\n",
       "      <th>39804</th>\n",
       "      <td>Electronics</td>\n",
       "      <td>Dell 19.5V-3.34AMP 65W Laptop Adapter (Without...</td>\n",
       "    </tr>\n",
       "    <tr>\n",
       "      <th>39805</th>\n",
       "      <td>Electronics</td>\n",
       "      <td>Bluetooth Dongle USB CSR 4.0 Adapter Receiver ...</td>\n",
       "    </tr>\n",
       "    <tr>\n",
       "      <th>39806</th>\n",
       "      <td>Electronics</td>\n",
       "      <td>Wi-Fi Receiver 300Mbps, 2.4GHz, 802.11b/g/n US...</td>\n",
       "    </tr>\n",
       "    <tr>\n",
       "      <th>39807</th>\n",
       "      <td>Electronics</td>\n",
       "      <td>SanDisk 64GB Class 10 microSDXC Memory Card wi...</td>\n",
       "    </tr>\n",
       "    <tr>\n",
       "      <th>39808</th>\n",
       "      <td>Electronics</td>\n",
       "      <td>Gizga Essentials Laptop Power Cable Cord- 3 Pi...</td>\n",
       "    </tr>\n",
       "  </tbody>\n",
       "</table>\n",
       "</div>"
      ],
      "text/plain": [
       "            Labels                                               Text\n",
       "39804  Electronics  Dell 19.5V-3.34AMP 65W Laptop Adapter (Without...\n",
       "39805  Electronics  Bluetooth Dongle USB CSR 4.0 Adapter Receiver ...\n",
       "39806  Electronics  Wi-Fi Receiver 300Mbps, 2.4GHz, 802.11b/g/n US...\n",
       "39807  Electronics  SanDisk 64GB Class 10 microSDXC Memory Card wi...\n",
       "39808  Electronics  Gizga Essentials Laptop Power Cable Cord- 3 Pi..."
      ]
     },
     "execution_count": 15,
     "metadata": {},
     "output_type": "execute_result"
    }
   ],
   "source": [
    "df_elec_downsample = df_elec.head(df_accessories.shape[0])\n",
    "df_elec_downsample.shape\n",
    "df_elec_downsample.head()"
   ]
  },
  {
   "cell_type": "markdown",
   "id": "cbf335aa",
   "metadata": {},
   "source": [
    "### ***Merging dataframes***"
   ]
  },
  {
   "cell_type": "code",
   "execution_count": 17,
   "id": "b62112df",
   "metadata": {},
   "outputs": [
    {
     "data": {
      "text/html": [
       "<div>\n",
       "<style scoped>\n",
       "    .dataframe tbody tr th:only-of-type {\n",
       "        vertical-align: middle;\n",
       "    }\n",
       "\n",
       "    .dataframe tbody tr th {\n",
       "        vertical-align: top;\n",
       "    }\n",
       "\n",
       "    .dataframe thead th {\n",
       "        text-align: right;\n",
       "    }\n",
       "</style>\n",
       "<table border=\"1\" class=\"dataframe\">\n",
       "  <thead>\n",
       "    <tr style=\"text-align: right;\">\n",
       "      <th></th>\n",
       "      <th>Labels</th>\n",
       "      <th>Text</th>\n",
       "    </tr>\n",
       "  </thead>\n",
       "  <tbody>\n",
       "    <tr>\n",
       "      <th>31133</th>\n",
       "      <td>Clothing &amp; Accessories</td>\n",
       "      <td>Woopower 36M Pink for 024M Baby Trouser Top Se...</td>\n",
       "    </tr>\n",
       "    <tr>\n",
       "      <th>31134</th>\n",
       "      <td>Clothing &amp; Accessories</td>\n",
       "      <td>Amour Butterfly Design Sunglasses For Girls 6+...</td>\n",
       "    </tr>\n",
       "    <tr>\n",
       "      <th>31135</th>\n",
       "      <td>Clothing &amp; Accessories</td>\n",
       "      <td>Vaenait Baby 024M Baby Girls Rashguard Swimwea...</td>\n",
       "    </tr>\n",
       "    <tr>\n",
       "      <th>31136</th>\n",
       "      <td>Clothing &amp; Accessories</td>\n",
       "      <td>Amour Butterfly Design Sunglasses For Girls 6+...</td>\n",
       "    </tr>\n",
       "    <tr>\n",
       "      <th>31137</th>\n",
       "      <td>Clothing &amp; Accessories</td>\n",
       "      <td>Kuchipoo Girl's Cotton Regular Fit T-Shirt - P...</td>\n",
       "    </tr>\n",
       "    <tr>\n",
       "      <th>...</th>\n",
       "      <td>...</td>\n",
       "      <td>...</td>\n",
       "    </tr>\n",
       "    <tr>\n",
       "      <th>48470</th>\n",
       "      <td>Electronics</td>\n",
       "      <td>LG GH24NSD1 Internal SATA DVD Writer The M-DIS...</td>\n",
       "    </tr>\n",
       "    <tr>\n",
       "      <th>48471</th>\n",
       "      <td>Electronics</td>\n",
       "      <td>LG GP65NB60 External DVD Writer (Black) LG GP6...</td>\n",
       "    </tr>\n",
       "    <tr>\n",
       "      <th>48472</th>\n",
       "      <td>Electronics</td>\n",
       "      <td>PIONEER DVD PLAYER DV-3052V Pioneer DV-3052 Mu...</td>\n",
       "    </tr>\n",
       "    <tr>\n",
       "      <th>48473</th>\n",
       "      <td>Electronics</td>\n",
       "      <td>LG DP546 DVD Player (Black) DivX-This is a for...</td>\n",
       "    </tr>\n",
       "    <tr>\n",
       "      <th>48474</th>\n",
       "      <td>Electronics</td>\n",
       "      <td>PODOFO 10.9cm Foldable TFT Color LCD Car Monit...</td>\n",
       "    </tr>\n",
       "  </tbody>\n",
       "</table>\n",
       "<p>34684 rows × 2 columns</p>\n",
       "</div>"
      ],
      "text/plain": [
       "                       Labels   \n",
       "31133  Clothing & Accessories  \\\n",
       "31134  Clothing & Accessories   \n",
       "31135  Clothing & Accessories   \n",
       "31136  Clothing & Accessories   \n",
       "31137  Clothing & Accessories   \n",
       "...                       ...   \n",
       "48470             Electronics   \n",
       "48471             Electronics   \n",
       "48472             Electronics   \n",
       "48473             Electronics   \n",
       "48474             Electronics   \n",
       "\n",
       "                                                    Text  \n",
       "31133  Woopower 36M Pink for 024M Baby Trouser Top Se...  \n",
       "31134  Amour Butterfly Design Sunglasses For Girls 6+...  \n",
       "31135  Vaenait Baby 024M Baby Girls Rashguard Swimwea...  \n",
       "31136  Amour Butterfly Design Sunglasses For Girls 6+...  \n",
       "31137  Kuchipoo Girl's Cotton Regular Fit T-Shirt - P...  \n",
       "...                                                  ...  \n",
       "48470  LG GH24NSD1 Internal SATA DVD Writer The M-DIS...  \n",
       "48471  LG GP65NB60 External DVD Writer (Black) LG GP6...  \n",
       "48472  PIONEER DVD PLAYER DV-3052V Pioneer DV-3052 Mu...  \n",
       "48473  LG DP546 DVD Player (Black) DivX-This is a for...  \n",
       "48474  PODOFO 10.9cm Foldable TFT Color LCD Car Monit...  \n",
       "\n",
       "[34684 rows x 2 columns]"
      ]
     },
     "execution_count": 17,
     "metadata": {},
     "output_type": "execute_result"
    }
   ],
   "source": [
    "dfs_array = [df_accessories, df_books_downsample, df_household_downsample, df_elec_downsample]\n",
    "df_merged = pd.concat(dfs_array)\n",
    "df_merged[df_merged['Labels'] == 'Household']"
   ]
  },
  {
   "cell_type": "markdown",
   "id": "c2d78d1a",
   "metadata": {},
   "source": [
    "### ***Adding 'type' column***"
   ]
  },
  {
   "cell_type": "code",
   "execution_count": 18,
   "id": "e30dca69",
   "metadata": {},
   "outputs": [
    {
     "data": {
      "text/html": [
       "<div>\n",
       "<style scoped>\n",
       "    .dataframe tbody tr th:only-of-type {\n",
       "        vertical-align: middle;\n",
       "    }\n",
       "\n",
       "    .dataframe tbody tr th {\n",
       "        vertical-align: top;\n",
       "    }\n",
       "\n",
       "    .dataframe thead th {\n",
       "        text-align: right;\n",
       "    }\n",
       "</style>\n",
       "<table border=\"1\" class=\"dataframe\">\n",
       "  <thead>\n",
       "    <tr style=\"text-align: right;\">\n",
       "      <th></th>\n",
       "      <th>Labels</th>\n",
       "      <th>Text</th>\n",
       "    </tr>\n",
       "  </thead>\n",
       "  <tbody>\n",
       "    <tr>\n",
       "      <th>31133</th>\n",
       "      <td>Clothing &amp; Accessories</td>\n",
       "      <td>Woopower 36M Pink for 024M Baby Trouser Top Se...</td>\n",
       "    </tr>\n",
       "    <tr>\n",
       "      <th>31134</th>\n",
       "      <td>Clothing &amp; Accessories</td>\n",
       "      <td>Amour Butterfly Design Sunglasses For Girls 6+...</td>\n",
       "    </tr>\n",
       "    <tr>\n",
       "      <th>31135</th>\n",
       "      <td>Clothing &amp; Accessories</td>\n",
       "      <td>Vaenait Baby 024M Baby Girls Rashguard Swimwea...</td>\n",
       "    </tr>\n",
       "    <tr>\n",
       "      <th>31136</th>\n",
       "      <td>Clothing &amp; Accessories</td>\n",
       "      <td>Amour Butterfly Design Sunglasses For Girls 6+...</td>\n",
       "    </tr>\n",
       "    <tr>\n",
       "      <th>31137</th>\n",
       "      <td>Clothing &amp; Accessories</td>\n",
       "      <td>Kuchipoo Girl's Cotton Regular Fit T-Shirt - P...</td>\n",
       "    </tr>\n",
       "    <tr>\n",
       "      <th>...</th>\n",
       "      <td>...</td>\n",
       "      <td>...</td>\n",
       "    </tr>\n",
       "    <tr>\n",
       "      <th>48470</th>\n",
       "      <td>Electronics</td>\n",
       "      <td>LG GH24NSD1 Internal SATA DVD Writer The M-DIS...</td>\n",
       "    </tr>\n",
       "    <tr>\n",
       "      <th>48471</th>\n",
       "      <td>Electronics</td>\n",
       "      <td>LG GP65NB60 External DVD Writer (Black) LG GP6...</td>\n",
       "    </tr>\n",
       "    <tr>\n",
       "      <th>48472</th>\n",
       "      <td>Electronics</td>\n",
       "      <td>PIONEER DVD PLAYER DV-3052V Pioneer DV-3052 Mu...</td>\n",
       "    </tr>\n",
       "    <tr>\n",
       "      <th>48473</th>\n",
       "      <td>Electronics</td>\n",
       "      <td>LG DP546 DVD Player (Black) DivX-This is a for...</td>\n",
       "    </tr>\n",
       "    <tr>\n",
       "      <th>48474</th>\n",
       "      <td>Electronics</td>\n",
       "      <td>PODOFO 10.9cm Foldable TFT Color LCD Car Monit...</td>\n",
       "    </tr>\n",
       "  </tbody>\n",
       "</table>\n",
       "<p>34684 rows × 2 columns</p>\n",
       "</div>"
      ],
      "text/plain": [
       "                       Labels   \n",
       "31133  Clothing & Accessories  \\\n",
       "31134  Clothing & Accessories   \n",
       "31135  Clothing & Accessories   \n",
       "31136  Clothing & Accessories   \n",
       "31137  Clothing & Accessories   \n",
       "...                       ...   \n",
       "48470             Electronics   \n",
       "48471             Electronics   \n",
       "48472             Electronics   \n",
       "48473             Electronics   \n",
       "48474             Electronics   \n",
       "\n",
       "                                                    Text  \n",
       "31133  Woopower 36M Pink for 024M Baby Trouser Top Se...  \n",
       "31134  Amour Butterfly Design Sunglasses For Girls 6+...  \n",
       "31135  Vaenait Baby 024M Baby Girls Rashguard Swimwea...  \n",
       "31136  Amour Butterfly Design Sunglasses For Girls 6+...  \n",
       "31137  Kuchipoo Girl's Cotton Regular Fit T-Shirt - P...  \n",
       "...                                                  ...  \n",
       "48470  LG GH24NSD1 Internal SATA DVD Writer The M-DIS...  \n",
       "48471  LG GP65NB60 External DVD Writer (Black) LG GP6...  \n",
       "48472  PIONEER DVD PLAYER DV-3052V Pioneer DV-3052 Mu...  \n",
       "48473  LG DP546 DVD Player (Black) DivX-This is a for...  \n",
       "48474  PODOFO 10.9cm Foldable TFT Color LCD Car Monit...  \n",
       "\n",
       "[34684 rows x 2 columns]"
      ]
     },
     "execution_count": 18,
     "metadata": {},
     "output_type": "execute_result"
    }
   ],
   "source": [
    "df_merged"
   ]
  },
  {
   "cell_type": "code",
   "execution_count": 80,
   "id": "639513b4",
   "metadata": {},
   "outputs": [
    {
     "data": {
      "text/html": [
       "<div>\n",
       "<style scoped>\n",
       "    .dataframe tbody tr th:only-of-type {\n",
       "        vertical-align: middle;\n",
       "    }\n",
       "\n",
       "    .dataframe tbody tr th {\n",
       "        vertical-align: top;\n",
       "    }\n",
       "\n",
       "    .dataframe thead th {\n",
       "        text-align: right;\n",
       "    }\n",
       "</style>\n",
       "<table border=\"1\" class=\"dataframe\">\n",
       "  <thead>\n",
       "    <tr style=\"text-align: right;\">\n",
       "      <th></th>\n",
       "      <th>Labels</th>\n",
       "      <th>Text</th>\n",
       "      <th>Type</th>\n",
       "    </tr>\n",
       "  </thead>\n",
       "  <tbody>\n",
       "    <tr>\n",
       "      <th>31133</th>\n",
       "      <td>Clothing &amp; Accessories</td>\n",
       "      <td>Woopower 36M Pink for 024M Baby Trouser Top Se...</td>\n",
       "      <td>[0, 0, 0, 1]</td>\n",
       "    </tr>\n",
       "    <tr>\n",
       "      <th>31134</th>\n",
       "      <td>Clothing &amp; Accessories</td>\n",
       "      <td>Amour Butterfly Design Sunglasses For Girls 6+...</td>\n",
       "      <td>[0, 0, 0, 1]</td>\n",
       "    </tr>\n",
       "    <tr>\n",
       "      <th>31135</th>\n",
       "      <td>Clothing &amp; Accessories</td>\n",
       "      <td>Vaenait Baby 024M Baby Girls Rashguard Swimwea...</td>\n",
       "      <td>[0, 0, 0, 1]</td>\n",
       "    </tr>\n",
       "    <tr>\n",
       "      <th>31136</th>\n",
       "      <td>Clothing &amp; Accessories</td>\n",
       "      <td>Amour Butterfly Design Sunglasses For Girls 6+...</td>\n",
       "      <td>[0, 0, 0, 1]</td>\n",
       "    </tr>\n",
       "    <tr>\n",
       "      <th>31137</th>\n",
       "      <td>Clothing &amp; Accessories</td>\n",
       "      <td>Kuchipoo Girl's Cotton Regular Fit T-Shirt - P...</td>\n",
       "      <td>[0, 0, 0, 1]</td>\n",
       "    </tr>\n",
       "    <tr>\n",
       "      <th>...</th>\n",
       "      <td>...</td>\n",
       "      <td>...</td>\n",
       "      <td>...</td>\n",
       "    </tr>\n",
       "    <tr>\n",
       "      <th>48470</th>\n",
       "      <td>Electronics</td>\n",
       "      <td>LG GH24NSD1 Internal SATA DVD Writer The M-DIS...</td>\n",
       "      <td>[0, 1, 0, 0]</td>\n",
       "    </tr>\n",
       "    <tr>\n",
       "      <th>48471</th>\n",
       "      <td>Electronics</td>\n",
       "      <td>LG GP65NB60 External DVD Writer (Black) LG GP6...</td>\n",
       "      <td>[0, 1, 0, 0]</td>\n",
       "    </tr>\n",
       "    <tr>\n",
       "      <th>48472</th>\n",
       "      <td>Electronics</td>\n",
       "      <td>PIONEER DVD PLAYER DV-3052V Pioneer DV-3052 Mu...</td>\n",
       "      <td>[0, 1, 0, 0]</td>\n",
       "    </tr>\n",
       "    <tr>\n",
       "      <th>48473</th>\n",
       "      <td>Electronics</td>\n",
       "      <td>LG DP546 DVD Player (Black) DivX-This is a for...</td>\n",
       "      <td>[0, 1, 0, 0]</td>\n",
       "    </tr>\n",
       "    <tr>\n",
       "      <th>48474</th>\n",
       "      <td>Electronics</td>\n",
       "      <td>PODOFO 10.9cm Foldable TFT Color LCD Car Monit...</td>\n",
       "      <td>[0, 1, 0, 0]</td>\n",
       "    </tr>\n",
       "  </tbody>\n",
       "</table>\n",
       "<p>34684 rows × 3 columns</p>\n",
       "</div>"
      ],
      "text/plain": [
       "                       Labels   \n",
       "31133  Clothing & Accessories  \\\n",
       "31134  Clothing & Accessories   \n",
       "31135  Clothing & Accessories   \n",
       "31136  Clothing & Accessories   \n",
       "31137  Clothing & Accessories   \n",
       "...                       ...   \n",
       "48470             Electronics   \n",
       "48471             Electronics   \n",
       "48472             Electronics   \n",
       "48473             Electronics   \n",
       "48474             Electronics   \n",
       "\n",
       "                                                    Text          Type  \n",
       "31133  Woopower 36M Pink for 024M Baby Trouser Top Se...  [0, 0, 0, 1]  \n",
       "31134  Amour Butterfly Design Sunglasses For Girls 6+...  [0, 0, 0, 1]  \n",
       "31135  Vaenait Baby 024M Baby Girls Rashguard Swimwea...  [0, 0, 0, 1]  \n",
       "31136  Amour Butterfly Design Sunglasses For Girls 6+...  [0, 0, 0, 1]  \n",
       "31137  Kuchipoo Girl's Cotton Regular Fit T-Shirt - P...  [0, 0, 0, 1]  \n",
       "...                                                  ...           ...  \n",
       "48470  LG GH24NSD1 Internal SATA DVD Writer The M-DIS...  [0, 1, 0, 0]  \n",
       "48471  LG GP65NB60 External DVD Writer (Black) LG GP6...  [0, 1, 0, 0]  \n",
       "48472  PIONEER DVD PLAYER DV-3052V Pioneer DV-3052 Mu...  [0, 1, 0, 0]  \n",
       "48473  LG DP546 DVD Player (Black) DivX-This is a for...  [0, 1, 0, 0]  \n",
       "48474  PODOFO 10.9cm Foldable TFT Color LCD Car Monit...  [0, 1, 0, 0]  \n",
       "\n",
       "[34684 rows x 3 columns]"
      ]
     },
     "execution_count": 80,
     "metadata": {},
     "output_type": "execute_result"
    }
   ],
   "source": [
    "#df_merged.drop(['Household', 'Books', 'Electronics', 'Clothing & Accessories'], axis = 1)"
   ]
  },
  {
   "cell_type": "code",
   "execution_count": 19,
   "id": "8a48c634",
   "metadata": {},
   "outputs": [
    {
     "data": {
      "text/html": [
       "<div>\n",
       "<style scoped>\n",
       "    .dataframe tbody tr th:only-of-type {\n",
       "        vertical-align: middle;\n",
       "    }\n",
       "\n",
       "    .dataframe tbody tr th {\n",
       "        vertical-align: top;\n",
       "    }\n",
       "\n",
       "    .dataframe thead th {\n",
       "        text-align: right;\n",
       "    }\n",
       "</style>\n",
       "<table border=\"1\" class=\"dataframe\">\n",
       "  <thead>\n",
       "    <tr style=\"text-align: right;\">\n",
       "      <th></th>\n",
       "      <th>Labels</th>\n",
       "      <th>Text</th>\n",
       "      <th>Type</th>\n",
       "    </tr>\n",
       "  </thead>\n",
       "  <tbody>\n",
       "    <tr>\n",
       "      <th>41405</th>\n",
       "      <td>Electronics</td>\n",
       "      <td>Cable Hunter™USB 3.0 (5Gbps) External Memory C...</td>\n",
       "      <td>1</td>\n",
       "    </tr>\n",
       "    <tr>\n",
       "      <th>47178</th>\n",
       "      <td>Electronics</td>\n",
       "      <td>Abro ABS39 Colour Spray Paint (400ml, Glossy B...</td>\n",
       "      <td>1</td>\n",
       "    </tr>\n",
       "    <tr>\n",
       "      <th>42569</th>\n",
       "      <td>Electronics</td>\n",
       "      <td>Portronics POR-895 Adjustable Laptop Table (Br...</td>\n",
       "      <td>1</td>\n",
       "    </tr>\n",
       "    <tr>\n",
       "      <th>6233</th>\n",
       "      <td>Household</td>\n",
       "      <td>Nechams Decorative Multi-Colored Push Thumb Pi...</td>\n",
       "      <td>0</td>\n",
       "    </tr>\n",
       "    <tr>\n",
       "      <th>5156</th>\n",
       "      <td>Household</td>\n",
       "      <td>Mamta Decoration Wall Mounted Shelf Set of 3 F...</td>\n",
       "      <td>0</td>\n",
       "    </tr>\n",
       "    <tr>\n",
       "      <th>46029</th>\n",
       "      <td>Electronics</td>\n",
       "      <td>Hoya Solas IRND 1.5 72mm Infrared Neutral Dens...</td>\n",
       "      <td>1</td>\n",
       "    </tr>\n",
       "    <tr>\n",
       "      <th>4848</th>\n",
       "      <td>Household</td>\n",
       "      <td>AJANTA ROYAL Individual Synthetic Polymer Wood...</td>\n",
       "      <td>0</td>\n",
       "    </tr>\n",
       "    <tr>\n",
       "      <th>32871</th>\n",
       "      <td>Clothing &amp; Accessories</td>\n",
       "      <td>Arrow Fashion Baby Girl Net Lehenga Choli (Ora...</td>\n",
       "      <td>3</td>\n",
       "    </tr>\n",
       "    <tr>\n",
       "      <th>34997</th>\n",
       "      <td>Clothing &amp; Accessories</td>\n",
       "      <td>Hanes Men's Calf Socks (Pack of 3) A pack of 3...</td>\n",
       "      <td>3</td>\n",
       "    </tr>\n",
       "    <tr>\n",
       "      <th>25567</th>\n",
       "      <td>Books</td>\n",
       "      <td>I am an Athlete – Read It Yourself with Ladybi...</td>\n",
       "      <td>2</td>\n",
       "    </tr>\n",
       "  </tbody>\n",
       "</table>\n",
       "</div>"
      ],
      "text/plain": [
       "                       Labels   \n",
       "41405             Electronics  \\\n",
       "47178             Electronics   \n",
       "42569             Electronics   \n",
       "6233                Household   \n",
       "5156                Household   \n",
       "46029             Electronics   \n",
       "4848                Household   \n",
       "32871  Clothing & Accessories   \n",
       "34997  Clothing & Accessories   \n",
       "25567                   Books   \n",
       "\n",
       "                                                    Text  Type  \n",
       "41405  Cable Hunter™USB 3.0 (5Gbps) External Memory C...     1  \n",
       "47178  Abro ABS39 Colour Spray Paint (400ml, Glossy B...     1  \n",
       "42569  Portronics POR-895 Adjustable Laptop Table (Br...     1  \n",
       "6233   Nechams Decorative Multi-Colored Push Thumb Pi...     0  \n",
       "5156   Mamta Decoration Wall Mounted Shelf Set of 3 F...     0  \n",
       "46029  Hoya Solas IRND 1.5 72mm Infrared Neutral Dens...     1  \n",
       "4848   AJANTA ROYAL Individual Synthetic Polymer Wood...     0  \n",
       "32871  Arrow Fashion Baby Girl Net Lehenga Choli (Ora...     3  \n",
       "34997  Hanes Men's Calf Socks (Pack of 3) A pack of 3...     3  \n",
       "25567  I am an Athlete – Read It Yourself with Ladybi...     2  "
      ]
     },
     "execution_count": 19,
     "metadata": {},
     "output_type": "execute_result"
    }
   ],
   "source": [
    "# Household = [1, 0, 0, 0]\n",
    "# Electronics = [0, 1, 0, 0]\n",
    "# Books = [0, 0, 1, 0]\n",
    "# Clo_Acce = [0, 0, 0, 1]\n",
    "\n",
    "df_merged['Type'] = df_merged['Labels'].apply(\n",
    "    lambda x: 0 if x == 'Household'\n",
    "    else 1 if x == 'Electronics'\n",
    "    else 2 if x == 'Books'\n",
    "    else 3\n",
    ")\n",
    "\n",
    "df_merged.sample(10)"
   ]
  },
  {
   "cell_type": "code",
   "execution_count": 20,
   "id": "bcf18b1c",
   "metadata": {},
   "outputs": [
    {
     "data": {
      "text/plain": [
       "dtype('int64')"
      ]
     },
     "execution_count": 20,
     "metadata": {},
     "output_type": "execute_result"
    }
   ],
   "source": [
    "df_merged['Type'].head(1).dtype"
   ]
  },
  {
   "cell_type": "code",
   "execution_count": 21,
   "id": "9c90adea",
   "metadata": {},
   "outputs": [
    {
     "data": {
      "text/plain": [
       "0"
      ]
     },
     "execution_count": 21,
     "metadata": {},
     "output_type": "execute_result"
    }
   ],
   "source": [
    "df_merged['Type'][1]\n"
   ]
  },
  {
   "cell_type": "code",
   "execution_count": null,
   "id": "6eff7316",
   "metadata": {
    "scrolled": true
   },
   "outputs": [],
   "source": [
    "df_merged['Household'] = df_merged['Labels'].apply(\n",
    "    lambda x: 1 if x == 'Household' else 0\n",
    ")\n",
    "df_merged['Electronics'] = df_merged['Labels'].apply(\n",
    "    lambda x: 1 if x == 'Electronics' else 0\n",
    ")\n",
    "df_merged['Books'] = df_merged['Labels'].apply(\n",
    "    lambda x: 1 if x == 'Books' else 0\n",
    ")\n",
    "\n",
    "df_merged['Clothing & Accessories'] = df_merged['Labels'].apply(\n",
    "    lambda x: 1 if x == 'Clothing & Accessories' else 0\n",
    ")\n",
    "\n",
    "df_merged.sample(50)"
   ]
  },
  {
   "cell_type": "markdown",
   "id": "4c3d9e31",
   "metadata": {},
   "source": [
    "### ***Splitting dataframe***"
   ]
  },
  {
   "cell_type": "code",
   "execution_count": 22,
   "id": "33f56db4",
   "metadata": {},
   "outputs": [],
   "source": [
    "cols = df_merged.select_dtypes(include=['object'])\n",
    "for col in cols.columns.values:\n",
    "    df_merged[col] = df_merged[col].fillna('')"
   ]
  },
  {
   "cell_type": "code",
   "execution_count": 68,
   "id": "58c9b901",
   "metadata": {},
   "outputs": [
    {
     "data": {
      "text/plain": [
       "35474    Fastrack UV Protected Wayfarer Men's Sunglasse...\n",
       "198      Charms Anklet for Women (Silver)(CR0251-285ef)...\n",
       "Name: Text, dtype: object"
      ]
     },
     "execution_count": 68,
     "metadata": {},
     "output_type": "execute_result"
    }
   ],
   "source": [
    "import sklearn\n",
    "from sklearn.model_selection import train_test_split\n",
    "\n",
    "X_train, X_test, y_train, y_test = train_test_split(df_merged['Text'], df_merged['Type'], train_size=0.2)\n",
    "#y_train = y_train.astype('string')\n",
    "X_train[:2]"
   ]
  },
  {
   "cell_type": "code",
   "execution_count": 77,
   "id": "0a486f93",
   "metadata": {},
   "outputs": [
    {
     "name": "stdout",
     "output_type": "stream",
     "text": [
      "Model: \"sequential_21\"\n",
      "_________________________________________________________________\n",
      " Layer (type)                Output Shape              Param #   \n",
      "=================================================================\n",
      " embedding_7 (Embedding)     (None, None, 64)          320000    \n",
      "                                                                 \n",
      " dropout_17 (Dropout)        (None, None, 64)          0         \n",
      "                                                                 \n",
      " bidirectional_6 (Bidirectio  (None, 128)              66048     \n",
      " nal)                                                            \n",
      "                                                                 \n",
      " dense_41 (Dense)            (None, 4)                 516       \n",
      "                                                                 \n",
      "=================================================================\n",
      "Total params: 386,564\n",
      "Trainable params: 386,564\n",
      "Non-trainable params: 0\n",
      "_________________________________________________________________\n"
     ]
    }
   ],
   "source": [
    "from keras.models import Sequential\n",
    "from keras.layers import Dense, Dropout, Embedding, Bidirectional, LSTM\n",
    "from keras.optimizers import SGD, Adam, Adadelta, RMSprop\n",
    "\n",
    "model = Sequential()\n",
    "\n",
    "model.add(Embedding(5000, 64))\n",
    "model.add(Dropout(0.5))\n",
    "model.add(Bidirectional(LSTM(64)))\n",
    "model.add(Dense(4, activation='softmax'))\n",
    "opt = tf.keras.optimizers.Adam(learning_rate=0.001, decay=1e-6)\n",
    "model.compile(loss='sparse_categorical_crossentropy', optimizer=opt, metrics=['accuracy'])\n",
    "\n",
    "model.summary()"
   ]
  },
  {
   "cell_type": "code",
   "execution_count": 78,
   "id": "bcc23e33",
   "metadata": {},
   "outputs": [
    {
     "name": "stdout",
     "output_type": "stream",
     "text": [
      "Epoch 1/3\n"
     ]
    },
    {
     "ename": "UnimplementedError",
     "evalue": "Graph execution error:\n\nDetected at node 'sequential_21/Cast' defined at (most recent call last):\n    File \"C:\\Users\\Admin\\AppData\\Local\\Programs\\Python\\Python310\\lib\\runpy.py\", line 196, in _run_module_as_main\n      return _run_code(code, main_globals, None,\n    File \"C:\\Users\\Admin\\AppData\\Local\\Programs\\Python\\Python310\\lib\\runpy.py\", line 86, in _run_code\n      exec(code, run_globals)\n    File \"C:\\Users\\Admin\\AppData\\Local\\Programs\\Python\\Python310\\lib\\site-packages\\ipykernel_launcher.py\", line 17, in <module>\n      app.launch_new_instance()\n    File \"C:\\Users\\Admin\\AppData\\Local\\Programs\\Python\\Python310\\lib\\site-packages\\traitlets\\config\\application.py\", line 1043, in launch_instance\n      app.start()\n    File \"C:\\Users\\Admin\\AppData\\Local\\Programs\\Python\\Python310\\lib\\site-packages\\ipykernel\\kernelapp.py\", line 728, in start\n      self.io_loop.start()\n    File \"C:\\Users\\Admin\\AppData\\Local\\Programs\\Python\\Python310\\lib\\site-packages\\tornado\\platform\\asyncio.py\", line 195, in start\n      self.asyncio_loop.run_forever()\n    File \"C:\\Users\\Admin\\AppData\\Local\\Programs\\Python\\Python310\\lib\\asyncio\\base_events.py\", line 603, in run_forever\n      self._run_once()\n    File \"C:\\Users\\Admin\\AppData\\Local\\Programs\\Python\\Python310\\lib\\asyncio\\base_events.py\", line 1909, in _run_once\n      handle._run()\n    File \"C:\\Users\\Admin\\AppData\\Local\\Programs\\Python\\Python310\\lib\\asyncio\\events.py\", line 80, in _run\n      self._context.run(self._callback, *self._args)\n    File \"C:\\Users\\Admin\\AppData\\Local\\Programs\\Python\\Python310\\lib\\site-packages\\ipykernel\\kernelbase.py\", line 516, in dispatch_queue\n      await self.process_one()\n    File \"C:\\Users\\Admin\\AppData\\Local\\Programs\\Python\\Python310\\lib\\site-packages\\ipykernel\\kernelbase.py\", line 505, in process_one\n      await dispatch(*args)\n    File \"C:\\Users\\Admin\\AppData\\Local\\Programs\\Python\\Python310\\lib\\site-packages\\ipykernel\\kernelbase.py\", line 412, in dispatch_shell\n      await result\n    File \"C:\\Users\\Admin\\AppData\\Local\\Programs\\Python\\Python310\\lib\\site-packages\\ipykernel\\kernelbase.py\", line 740, in execute_request\n      reply_content = await reply_content\n    File \"C:\\Users\\Admin\\AppData\\Local\\Programs\\Python\\Python310\\lib\\site-packages\\ipykernel\\ipkernel.py\", line 422, in do_execute\n      res = shell.run_cell(\n    File \"C:\\Users\\Admin\\AppData\\Local\\Programs\\Python\\Python310\\lib\\site-packages\\ipykernel\\zmqshell.py\", line 540, in run_cell\n      return super().run_cell(*args, **kwargs)\n    File \"C:\\Users\\Admin\\AppData\\Local\\Programs\\Python\\Python310\\lib\\site-packages\\IPython\\core\\interactiveshell.py\", line 3009, in run_cell\n      result = self._run_cell(\n    File \"C:\\Users\\Admin\\AppData\\Local\\Programs\\Python\\Python310\\lib\\site-packages\\IPython\\core\\interactiveshell.py\", line 3064, in _run_cell\n      result = runner(coro)\n    File \"C:\\Users\\Admin\\AppData\\Local\\Programs\\Python\\Python310\\lib\\site-packages\\IPython\\core\\async_helpers.py\", line 129, in _pseudo_sync_runner\n      coro.send(None)\n    File \"C:\\Users\\Admin\\AppData\\Local\\Programs\\Python\\Python310\\lib\\site-packages\\IPython\\core\\interactiveshell.py\", line 3269, in run_cell_async\n      has_raised = await self.run_ast_nodes(code_ast.body, cell_name,\n    File \"C:\\Users\\Admin\\AppData\\Local\\Programs\\Python\\Python310\\lib\\site-packages\\IPython\\core\\interactiveshell.py\", line 3448, in run_ast_nodes\n      if await self.run_code(code, result, async_=asy):\n    File \"C:\\Users\\Admin\\AppData\\Local\\Programs\\Python\\Python310\\lib\\site-packages\\IPython\\core\\interactiveshell.py\", line 3508, in run_code\n      exec(code_obj, self.user_global_ns, self.user_ns)\n    File \"C:\\Users\\Admin\\AppData\\Local\\Temp\\ipykernel_27396\\3439237064.py\", line 1, in <module>\n      model.fit(X_train, y_train, verbose = 1, epochs = 3)\n    File \"C:\\Users\\Admin\\AppData\\Local\\Programs\\Python\\Python310\\lib\\site-packages\\keras\\utils\\traceback_utils.py\", line 65, in error_handler\n      return fn(*args, **kwargs)\n    File \"C:\\Users\\Admin\\AppData\\Local\\Programs\\Python\\Python310\\lib\\site-packages\\keras\\engine\\training.py\", line 1564, in fit\n      tmp_logs = self.train_function(iterator)\n    File \"C:\\Users\\Admin\\AppData\\Local\\Programs\\Python\\Python310\\lib\\site-packages\\keras\\engine\\training.py\", line 1160, in train_function\n      return step_function(self, iterator)\n    File \"C:\\Users\\Admin\\AppData\\Local\\Programs\\Python\\Python310\\lib\\site-packages\\keras\\engine\\training.py\", line 1146, in step_function\n      outputs = model.distribute_strategy.run(run_step, args=(data,))\n    File \"C:\\Users\\Admin\\AppData\\Local\\Programs\\Python\\Python310\\lib\\site-packages\\keras\\engine\\training.py\", line 1135, in run_step\n      outputs = model.train_step(data)\n    File \"C:\\Users\\Admin\\AppData\\Local\\Programs\\Python\\Python310\\lib\\site-packages\\keras\\engine\\training.py\", line 993, in train_step\n      y_pred = self(x, training=True)\n    File \"C:\\Users\\Admin\\AppData\\Local\\Programs\\Python\\Python310\\lib\\site-packages\\keras\\utils\\traceback_utils.py\", line 65, in error_handler\n      return fn(*args, **kwargs)\n    File \"C:\\Users\\Admin\\AppData\\Local\\Programs\\Python\\Python310\\lib\\site-packages\\keras\\engine\\training.py\", line 557, in __call__\n      return super().__call__(*args, **kwargs)\n    File \"C:\\Users\\Admin\\AppData\\Local\\Programs\\Python\\Python310\\lib\\site-packages\\keras\\utils\\traceback_utils.py\", line 65, in error_handler\n      return fn(*args, **kwargs)\n    File \"C:\\Users\\Admin\\AppData\\Local\\Programs\\Python\\Python310\\lib\\site-packages\\keras\\engine\\base_layer.py\", line 1097, in __call__\n      outputs = call_fn(inputs, *args, **kwargs)\n    File \"C:\\Users\\Admin\\AppData\\Local\\Programs\\Python\\Python310\\lib\\site-packages\\keras\\utils\\traceback_utils.py\", line 96, in error_handler\n      return fn(*args, **kwargs)\n    File \"C:\\Users\\Admin\\AppData\\Local\\Programs\\Python\\Python310\\lib\\site-packages\\keras\\engine\\sequential.py\", line 410, in call\n      return super().call(inputs, training=training, mask=mask)\n    File \"C:\\Users\\Admin\\AppData\\Local\\Programs\\Python\\Python310\\lib\\site-packages\\keras\\engine\\functional.py\", line 510, in call\n      return self._run_internal_graph(inputs, training=training, mask=mask)\n    File \"C:\\Users\\Admin\\AppData\\Local\\Programs\\Python\\Python310\\lib\\site-packages\\keras\\engine\\functional.py\", line 649, in _run_internal_graph\n      y = self._conform_to_reference_input(y, ref_input=x)\n    File \"C:\\Users\\Admin\\AppData\\Local\\Programs\\Python\\Python310\\lib\\site-packages\\keras\\engine\\functional.py\", line 761, in _conform_to_reference_input\n      tensor = tf.cast(tensor, dtype=ref_input.dtype)\nNode: 'sequential_21/Cast'\nCast string to float is not supported\n\t [[{{node sequential_21/Cast}}]] [Op:__inference_train_function_15062]",
     "output_type": "error",
     "traceback": [
      "\u001b[1;31m---------------------------------------------------------------------------\u001b[0m",
      "\u001b[1;31mUnimplementedError\u001b[0m                        Traceback (most recent call last)",
      "Cell \u001b[1;32mIn[78], line 1\u001b[0m\n\u001b[1;32m----> 1\u001b[0m \u001b[43mmodel\u001b[49m\u001b[38;5;241;43m.\u001b[39;49m\u001b[43mfit\u001b[49m\u001b[43m(\u001b[49m\u001b[43mX_train\u001b[49m\u001b[43m,\u001b[49m\u001b[43m \u001b[49m\u001b[43my_train\u001b[49m\u001b[43m,\u001b[49m\u001b[43m \u001b[49m\u001b[43mverbose\u001b[49m\u001b[43m \u001b[49m\u001b[38;5;241;43m=\u001b[39;49m\u001b[43m \u001b[49m\u001b[38;5;241;43m1\u001b[39;49m\u001b[43m,\u001b[49m\u001b[43m \u001b[49m\u001b[43mepochs\u001b[49m\u001b[43m \u001b[49m\u001b[38;5;241;43m=\u001b[39;49m\u001b[43m \u001b[49m\u001b[38;5;241;43m3\u001b[39;49m\u001b[43m)\u001b[49m\n",
      "File \u001b[1;32m~\\AppData\\Local\\Programs\\Python\\Python310\\lib\\site-packages\\keras\\utils\\traceback_utils.py:70\u001b[0m, in \u001b[0;36mfilter_traceback.<locals>.error_handler\u001b[1;34m(*args, **kwargs)\u001b[0m\n\u001b[0;32m     67\u001b[0m     filtered_tb \u001b[38;5;241m=\u001b[39m _process_traceback_frames(e\u001b[38;5;241m.\u001b[39m__traceback__)\n\u001b[0;32m     68\u001b[0m     \u001b[38;5;66;03m# To get the full stack trace, call:\u001b[39;00m\n\u001b[0;32m     69\u001b[0m     \u001b[38;5;66;03m# `tf.debugging.disable_traceback_filtering()`\u001b[39;00m\n\u001b[1;32m---> 70\u001b[0m     \u001b[38;5;28;01mraise\u001b[39;00m e\u001b[38;5;241m.\u001b[39mwith_traceback(filtered_tb) \u001b[38;5;28;01mfrom\u001b[39;00m \u001b[38;5;28;01mNone\u001b[39;00m\n\u001b[0;32m     71\u001b[0m \u001b[38;5;28;01mfinally\u001b[39;00m:\n\u001b[0;32m     72\u001b[0m     \u001b[38;5;28;01mdel\u001b[39;00m filtered_tb\n",
      "File \u001b[1;32m~\\AppData\\Local\\Programs\\Python\\Python310\\lib\\site-packages\\tensorflow\\python\\eager\\execute.py:54\u001b[0m, in \u001b[0;36mquick_execute\u001b[1;34m(op_name, num_outputs, inputs, attrs, ctx, name)\u001b[0m\n\u001b[0;32m     52\u001b[0m \u001b[38;5;28;01mtry\u001b[39;00m:\n\u001b[0;32m     53\u001b[0m   ctx\u001b[38;5;241m.\u001b[39mensure_initialized()\n\u001b[1;32m---> 54\u001b[0m   tensors \u001b[38;5;241m=\u001b[39m pywrap_tfe\u001b[38;5;241m.\u001b[39mTFE_Py_Execute(ctx\u001b[38;5;241m.\u001b[39m_handle, device_name, op_name,\n\u001b[0;32m     55\u001b[0m                                       inputs, attrs, num_outputs)\n\u001b[0;32m     56\u001b[0m \u001b[38;5;28;01mexcept\u001b[39;00m core\u001b[38;5;241m.\u001b[39m_NotOkStatusException \u001b[38;5;28;01mas\u001b[39;00m e:\n\u001b[0;32m     57\u001b[0m   \u001b[38;5;28;01mif\u001b[39;00m name \u001b[38;5;129;01mis\u001b[39;00m \u001b[38;5;129;01mnot\u001b[39;00m \u001b[38;5;28;01mNone\u001b[39;00m:\n",
      "\u001b[1;31mUnimplementedError\u001b[0m: Graph execution error:\n\nDetected at node 'sequential_21/Cast' defined at (most recent call last):\n    File \"C:\\Users\\Admin\\AppData\\Local\\Programs\\Python\\Python310\\lib\\runpy.py\", line 196, in _run_module_as_main\n      return _run_code(code, main_globals, None,\n    File \"C:\\Users\\Admin\\AppData\\Local\\Programs\\Python\\Python310\\lib\\runpy.py\", line 86, in _run_code\n      exec(code, run_globals)\n    File \"C:\\Users\\Admin\\AppData\\Local\\Programs\\Python\\Python310\\lib\\site-packages\\ipykernel_launcher.py\", line 17, in <module>\n      app.launch_new_instance()\n    File \"C:\\Users\\Admin\\AppData\\Local\\Programs\\Python\\Python310\\lib\\site-packages\\traitlets\\config\\application.py\", line 1043, in launch_instance\n      app.start()\n    File \"C:\\Users\\Admin\\AppData\\Local\\Programs\\Python\\Python310\\lib\\site-packages\\ipykernel\\kernelapp.py\", line 728, in start\n      self.io_loop.start()\n    File \"C:\\Users\\Admin\\AppData\\Local\\Programs\\Python\\Python310\\lib\\site-packages\\tornado\\platform\\asyncio.py\", line 195, in start\n      self.asyncio_loop.run_forever()\n    File \"C:\\Users\\Admin\\AppData\\Local\\Programs\\Python\\Python310\\lib\\asyncio\\base_events.py\", line 603, in run_forever\n      self._run_once()\n    File \"C:\\Users\\Admin\\AppData\\Local\\Programs\\Python\\Python310\\lib\\asyncio\\base_events.py\", line 1909, in _run_once\n      handle._run()\n    File \"C:\\Users\\Admin\\AppData\\Local\\Programs\\Python\\Python310\\lib\\asyncio\\events.py\", line 80, in _run\n      self._context.run(self._callback, *self._args)\n    File \"C:\\Users\\Admin\\AppData\\Local\\Programs\\Python\\Python310\\lib\\site-packages\\ipykernel\\kernelbase.py\", line 516, in dispatch_queue\n      await self.process_one()\n    File \"C:\\Users\\Admin\\AppData\\Local\\Programs\\Python\\Python310\\lib\\site-packages\\ipykernel\\kernelbase.py\", line 505, in process_one\n      await dispatch(*args)\n    File \"C:\\Users\\Admin\\AppData\\Local\\Programs\\Python\\Python310\\lib\\site-packages\\ipykernel\\kernelbase.py\", line 412, in dispatch_shell\n      await result\n    File \"C:\\Users\\Admin\\AppData\\Local\\Programs\\Python\\Python310\\lib\\site-packages\\ipykernel\\kernelbase.py\", line 740, in execute_request\n      reply_content = await reply_content\n    File \"C:\\Users\\Admin\\AppData\\Local\\Programs\\Python\\Python310\\lib\\site-packages\\ipykernel\\ipkernel.py\", line 422, in do_execute\n      res = shell.run_cell(\n    File \"C:\\Users\\Admin\\AppData\\Local\\Programs\\Python\\Python310\\lib\\site-packages\\ipykernel\\zmqshell.py\", line 540, in run_cell\n      return super().run_cell(*args, **kwargs)\n    File \"C:\\Users\\Admin\\AppData\\Local\\Programs\\Python\\Python310\\lib\\site-packages\\IPython\\core\\interactiveshell.py\", line 3009, in run_cell\n      result = self._run_cell(\n    File \"C:\\Users\\Admin\\AppData\\Local\\Programs\\Python\\Python310\\lib\\site-packages\\IPython\\core\\interactiveshell.py\", line 3064, in _run_cell\n      result = runner(coro)\n    File \"C:\\Users\\Admin\\AppData\\Local\\Programs\\Python\\Python310\\lib\\site-packages\\IPython\\core\\async_helpers.py\", line 129, in _pseudo_sync_runner\n      coro.send(None)\n    File \"C:\\Users\\Admin\\AppData\\Local\\Programs\\Python\\Python310\\lib\\site-packages\\IPython\\core\\interactiveshell.py\", line 3269, in run_cell_async\n      has_raised = await self.run_ast_nodes(code_ast.body, cell_name,\n    File \"C:\\Users\\Admin\\AppData\\Local\\Programs\\Python\\Python310\\lib\\site-packages\\IPython\\core\\interactiveshell.py\", line 3448, in run_ast_nodes\n      if await self.run_code(code, result, async_=asy):\n    File \"C:\\Users\\Admin\\AppData\\Local\\Programs\\Python\\Python310\\lib\\site-packages\\IPython\\core\\interactiveshell.py\", line 3508, in run_code\n      exec(code_obj, self.user_global_ns, self.user_ns)\n    File \"C:\\Users\\Admin\\AppData\\Local\\Temp\\ipykernel_27396\\3439237064.py\", line 1, in <module>\n      model.fit(X_train, y_train, verbose = 1, epochs = 3)\n    File \"C:\\Users\\Admin\\AppData\\Local\\Programs\\Python\\Python310\\lib\\site-packages\\keras\\utils\\traceback_utils.py\", line 65, in error_handler\n      return fn(*args, **kwargs)\n    File \"C:\\Users\\Admin\\AppData\\Local\\Programs\\Python\\Python310\\lib\\site-packages\\keras\\engine\\training.py\", line 1564, in fit\n      tmp_logs = self.train_function(iterator)\n    File \"C:\\Users\\Admin\\AppData\\Local\\Programs\\Python\\Python310\\lib\\site-packages\\keras\\engine\\training.py\", line 1160, in train_function\n      return step_function(self, iterator)\n    File \"C:\\Users\\Admin\\AppData\\Local\\Programs\\Python\\Python310\\lib\\site-packages\\keras\\engine\\training.py\", line 1146, in step_function\n      outputs = model.distribute_strategy.run(run_step, args=(data,))\n    File \"C:\\Users\\Admin\\AppData\\Local\\Programs\\Python\\Python310\\lib\\site-packages\\keras\\engine\\training.py\", line 1135, in run_step\n      outputs = model.train_step(data)\n    File \"C:\\Users\\Admin\\AppData\\Local\\Programs\\Python\\Python310\\lib\\site-packages\\keras\\engine\\training.py\", line 993, in train_step\n      y_pred = self(x, training=True)\n    File \"C:\\Users\\Admin\\AppData\\Local\\Programs\\Python\\Python310\\lib\\site-packages\\keras\\utils\\traceback_utils.py\", line 65, in error_handler\n      return fn(*args, **kwargs)\n    File \"C:\\Users\\Admin\\AppData\\Local\\Programs\\Python\\Python310\\lib\\site-packages\\keras\\engine\\training.py\", line 557, in __call__\n      return super().__call__(*args, **kwargs)\n    File \"C:\\Users\\Admin\\AppData\\Local\\Programs\\Python\\Python310\\lib\\site-packages\\keras\\utils\\traceback_utils.py\", line 65, in error_handler\n      return fn(*args, **kwargs)\n    File \"C:\\Users\\Admin\\AppData\\Local\\Programs\\Python\\Python310\\lib\\site-packages\\keras\\engine\\base_layer.py\", line 1097, in __call__\n      outputs = call_fn(inputs, *args, **kwargs)\n    File \"C:\\Users\\Admin\\AppData\\Local\\Programs\\Python\\Python310\\lib\\site-packages\\keras\\utils\\traceback_utils.py\", line 96, in error_handler\n      return fn(*args, **kwargs)\n    File \"C:\\Users\\Admin\\AppData\\Local\\Programs\\Python\\Python310\\lib\\site-packages\\keras\\engine\\sequential.py\", line 410, in call\n      return super().call(inputs, training=training, mask=mask)\n    File \"C:\\Users\\Admin\\AppData\\Local\\Programs\\Python\\Python310\\lib\\site-packages\\keras\\engine\\functional.py\", line 510, in call\n      return self._run_internal_graph(inputs, training=training, mask=mask)\n    File \"C:\\Users\\Admin\\AppData\\Local\\Programs\\Python\\Python310\\lib\\site-packages\\keras\\engine\\functional.py\", line 649, in _run_internal_graph\n      y = self._conform_to_reference_input(y, ref_input=x)\n    File \"C:\\Users\\Admin\\AppData\\Local\\Programs\\Python\\Python310\\lib\\site-packages\\keras\\engine\\functional.py\", line 761, in _conform_to_reference_input\n      tensor = tf.cast(tensor, dtype=ref_input.dtype)\nNode: 'sequential_21/Cast'\nCast string to float is not supported\n\t [[{{node sequential_21/Cast}}]] [Op:__inference_train_function_15062]"
     ]
    }
   ],
   "source": [
    "model.fit(X_train, y_train, verbose = 1, epochs = 3)"
   ]
  },
  {
   "cell_type": "markdown",
   "id": "bef83d57",
   "metadata": {},
   "source": [
    "### ***Importing BERT and getting embeding vectors for data***"
   ]
  },
  {
   "cell_type": "code",
   "execution_count": null,
   "id": "9bca5f0a",
   "metadata": {},
   "outputs": [],
   "source": [
    "bert_preprocess = hub.KerasLayer(\"https://tfhub.dev/tensorflow/bert_en_uncased_preprocess/3\")\n",
    "bert_encoder = hub.KerasLayer(\"https://tfhub.dev/tensorflow/bert_en_uncased_L-12_H-768_A-12/4\")"
   ]
  },
  {
   "cell_type": "markdown",
   "id": "e171c03c",
   "metadata": {},
   "source": [
    "**Example getting embeding of sentence**"
   ]
  },
  {
   "cell_type": "code",
   "execution_count": null,
   "id": "1e474ace",
   "metadata": {},
   "outputs": [],
   "source": [
    "def get_sentence_embeding(sentences):\n",
    "    preprocessed_text = bert_preprocess(sentences)\n",
    "    return bert_encoder(preprocessed_text)['pooled_output']\n",
    "\n",
    "get_sentence_embeding([\n",
    "    \"500$ discount. hurry up\", \n",
    "    \"Bhavin, are you up for a volleybal game tomorrow?\"]\n",
    ")"
   ]
  },
  {
   "cell_type": "markdown",
   "id": "ac747a7a",
   "metadata": {},
   "source": [
    "**Building model**"
   ]
  },
  {
   "cell_type": "code",
   "execution_count": null,
   "id": "c450c2d2",
   "metadata": {},
   "outputs": [],
   "source": [
    "#BERT Layer\n",
    "text_input = tf.keras.layers.Input(shape=(), dtype=tf.string, name = \"text\")\n",
    "preprocessed_inputs = bert_preprocess(text_input)\n",
    "encoded_outputs = bert_encoder(preprocessed_inputs)\n",
    "\n",
    "#Neural network\n",
    "layer = tf.keras.layers.Dropout(0.1, name='dropout') (encoded_outputs['pooled_output'])\n",
    "layer= tf.keras.layers.Dense(4, activation='sigmoid', name=\"output\")(layer)\n",
    "\n",
    "#Construct the final model\n",
    "model = tf.keras.Model(inputs=[text_input], outputs=[layer])"
   ]
  },
  {
   "cell_type": "code",
   "execution_count": 150,
   "id": "ea9c0cbc",
   "metadata": {},
   "outputs": [
    {
     "data": {
      "text/plain": [
       "<KerasTensor: shape=(768,) dtype=float32 (created by layer 'tf.__operators__.getitem_3')>"
      ]
     },
     "execution_count": 150,
     "metadata": {},
     "output_type": "execute_result"
    }
   ],
   "source": [
    "encoded_outputs['pooled_output'][4]"
   ]
  },
  {
   "cell_type": "code",
   "execution_count": 145,
   "id": "bdf90b7f",
   "metadata": {},
   "outputs": [
    {
     "name": "stdout",
     "output_type": "stream",
     "text": [
      "Model: \"model_3\"\n",
      "__________________________________________________________________________________________________\n",
      " Layer (type)                   Output Shape         Param #     Connected to                     \n",
      "==================================================================================================\n",
      " text (InputLayer)              [(None,)]            0           []                               \n",
      "                                                                                                  \n",
      " keras_layer (KerasLayer)       {'input_word_ids':   0           ['text[0][0]']                   \n",
      "                                (None, 128),                                                      \n",
      "                                 'input_mask': (Non                                               \n",
      "                                e, 128),                                                          \n",
      "                                 'input_type_ids':                                                \n",
      "                                (None, 128)}                                                      \n",
      "                                                                                                  \n",
      " keras_layer_1 (KerasLayer)     {'default': (None,   109482241   ['keras_layer[3][0]',            \n",
      "                                768),                             'keras_layer[3][1]',            \n",
      "                                 'encoder_outputs':               'keras_layer[3][2]']            \n",
      "                                 [(None, 128, 768),                                               \n",
      "                                 (None, 128, 768),                                                \n",
      "                                 (None, 128, 768),                                                \n",
      "                                 (None, 128, 768),                                                \n",
      "                                 (None, 128, 768),                                                \n",
      "                                 (None, 128, 768),                                                \n",
      "                                 (None, 128, 768),                                                \n",
      "                                 (None, 128, 768),                                                \n",
      "                                 (None, 128, 768),                                                \n",
      "                                 (None, 128, 768),                                                \n",
      "                                 (None, 128, 768),                                                \n",
      "                                 (None, 128, 768)],                                               \n",
      "                                 'pooled_output': (                                               \n",
      "                                None, 768),                                                       \n",
      "                                 'sequence_output':                                               \n",
      "                                 (None, 128, 768)}                                                \n",
      "                                                                                                  \n",
      " dropout (Dropout)              (None, 768)          0           ['keras_layer_1[3][13]']         \n",
      "                                                                                                  \n",
      " output (Dense)                 (None, 4)            3076        ['dropout[0][0]']                \n",
      "                                                                                                  \n",
      "==================================================================================================\n",
      "Total params: 109,485,317\n",
      "Trainable params: 3,076\n",
      "Non-trainable params: 109,482,241\n",
      "__________________________________________________________________________________________________\n"
     ]
    }
   ],
   "source": [
    "model.summary()"
   ]
  },
  {
   "cell_type": "code",
   "execution_count": null,
   "id": "a404687c",
   "metadata": {},
   "outputs": [],
   "source": [
    "model.compile(loss=tf.keras.losses.SparseCategoricalCrossentropy(), optimizer='adam',\n",
    "              metrics=[tf.keras.metrics.BinaryAccuracy(name = 'Accuracy'),\n",
    "                       tf.keras.metrics.Precision(name = 'Precision'), \n",
    "                       tf.keras.metrics.Recall(name = 'Recall')])"
   ]
  },
  {
   "cell_type": "code",
   "execution_count": 135,
   "id": "6f24f595",
   "metadata": {},
   "outputs": [],
   "source": [
    "y_train = y_train.astype(str)"
   ]
  },
  {
   "cell_type": "code",
   "execution_count": 136,
   "id": "9a33d51b",
   "metadata": {},
   "outputs": [
    {
     "data": {
      "text/plain": [
       "36681    [0, 0, 0, 1]\n",
       "35662    [0, 0, 0, 1]\n",
       "26569    [0, 0, 1, 0]\n",
       "7349     [1, 0, 0, 0]\n",
       "40428    [0, 1, 0, 0]\n",
       "44173    [0, 1, 0, 0]\n",
       "46171    [0, 1, 0, 0]\n",
       "4267     [1, 0, 0, 0]\n",
       "19940    [0, 0, 1, 0]\n",
       "21308    [0, 0, 1, 0]\n",
       "Name: Type, dtype: object"
      ]
     },
     "execution_count": 136,
     "metadata": {},
     "output_type": "execute_result"
    }
   ],
   "source": [
    "y_train.head(10)"
   ]
  },
  {
   "cell_type": "code",
   "execution_count": 137,
   "id": "e3ebea54",
   "metadata": {},
   "outputs": [],
   "source": [
    "from keras.models import Sequential\n",
    "from keras.layers import Dense\n",
    "\n",
    "MODEL = Sequential()\n",
    "MODEL.add(Dense(20, input_dim = 768, kernel_initializer='he_uniform', activation='relu'))\n",
    "MODEL.add(Dense(4, activation = 'sigmoid'))\n",
    "MODEL.compile(loss='binary_crossentropy', optimizer='adam')"
   ]
  },
  {
   "cell_type": "code",
   "execution_count": 138,
   "id": "3d751151",
   "metadata": {
    "scrolled": true
   },
   "outputs": [
    {
     "name": "stdout",
     "output_type": "stream",
     "text": [
      "WARNING:tensorflow:Model was constructed with shape (None, 768) for input KerasTensor(type_spec=TensorSpec(shape=(None, 768), dtype=tf.float32, name='dense_24_input'), name='dense_24_input', description=\"created by layer 'dense_24_input'\"), but it was called on an input with incompatible shape (None, 1).\n"
     ]
    },
    {
     "name": "stderr",
     "output_type": "stream",
     "text": [
      "WARNING:tensorflow:Model was constructed with shape (None, 768) for input KerasTensor(type_spec=TensorSpec(shape=(None, 768), dtype=tf.float32, name='dense_24_input'), name='dense_24_input', description=\"created by layer 'dense_24_input'\"), but it was called on an input with incompatible shape (None, 1).\n"
     ]
    },
    {
     "ename": "ValueError",
     "evalue": "in user code:\n\n    File \"C:\\Users\\Admin\\AppData\\Local\\Programs\\Python\\Python310\\lib\\site-packages\\keras\\engine\\training.py\", line 1160, in train_function  *\n        return step_function(self, iterator)\n    File \"C:\\Users\\Admin\\AppData\\Local\\Programs\\Python\\Python310\\lib\\site-packages\\keras\\engine\\training.py\", line 1146, in step_function  **\n        outputs = model.distribute_strategy.run(run_step, args=(data,))\n    File \"C:\\Users\\Admin\\AppData\\Local\\Programs\\Python\\Python310\\lib\\site-packages\\keras\\engine\\training.py\", line 1135, in run_step  **\n        outputs = model.train_step(data)\n    File \"C:\\Users\\Admin\\AppData\\Local\\Programs\\Python\\Python310\\lib\\site-packages\\keras\\engine\\training.py\", line 993, in train_step\n        y_pred = self(x, training=True)\n    File \"C:\\Users\\Admin\\AppData\\Local\\Programs\\Python\\Python310\\lib\\site-packages\\keras\\utils\\traceback_utils.py\", line 70, in error_handler\n        raise e.with_traceback(filtered_tb) from None\n    File \"C:\\Users\\Admin\\AppData\\Local\\Programs\\Python\\Python310\\lib\\site-packages\\keras\\engine\\input_spec.py\", line 277, in assert_input_compatibility\n        raise ValueError(\n\n    ValueError: Exception encountered when calling layer \"sequential_12\" \"                 f\"(type Sequential).\n    \n    Input 0 of layer \"dense_24\" is incompatible with the layer: expected axis -1 of input shape to have value 768, but received input with shape (None, 1)\n    \n    Call arguments received by layer \"sequential_12\" \"                 f\"(type Sequential):\n      • inputs=tf.Tensor(shape=(None, 1), dtype=string)\n      • training=True\n      • mask=None\n",
     "output_type": "error",
     "traceback": [
      "\u001b[1;31m---------------------------------------------------------------------------\u001b[0m",
      "\u001b[1;31mValueError\u001b[0m                                Traceback (most recent call last)",
      "Cell \u001b[1;32mIn[138], line 1\u001b[0m\n\u001b[1;32m----> 1\u001b[0m \u001b[43mMODEL\u001b[49m\u001b[38;5;241;43m.\u001b[39;49m\u001b[43mfit\u001b[49m\u001b[43m(\u001b[49m\u001b[43mX_train\u001b[49m\u001b[43m,\u001b[49m\u001b[43m \u001b[49m\u001b[43my_train\u001b[49m\u001b[43m,\u001b[49m\u001b[43m \u001b[49m\u001b[43mverbose\u001b[49m\u001b[38;5;241;43m=\u001b[39;49m\u001b[38;5;241;43m0\u001b[39;49m\u001b[43m,\u001b[49m\u001b[43m \u001b[49m\u001b[43mepochs\u001b[49m\u001b[38;5;241;43m=\u001b[39;49m\u001b[38;5;241;43m3\u001b[39;49m\u001b[43m)\u001b[49m\n",
      "File \u001b[1;32m~\\AppData\\Local\\Programs\\Python\\Python310\\lib\\site-packages\\keras\\utils\\traceback_utils.py:70\u001b[0m, in \u001b[0;36mfilter_traceback.<locals>.error_handler\u001b[1;34m(*args, **kwargs)\u001b[0m\n\u001b[0;32m     67\u001b[0m     filtered_tb \u001b[38;5;241m=\u001b[39m _process_traceback_frames(e\u001b[38;5;241m.\u001b[39m__traceback__)\n\u001b[0;32m     68\u001b[0m     \u001b[38;5;66;03m# To get the full stack trace, call:\u001b[39;00m\n\u001b[0;32m     69\u001b[0m     \u001b[38;5;66;03m# `tf.debugging.disable_traceback_filtering()`\u001b[39;00m\n\u001b[1;32m---> 70\u001b[0m     \u001b[38;5;28;01mraise\u001b[39;00m e\u001b[38;5;241m.\u001b[39mwith_traceback(filtered_tb) \u001b[38;5;28;01mfrom\u001b[39;00m \u001b[38;5;28;01mNone\u001b[39;00m\n\u001b[0;32m     71\u001b[0m \u001b[38;5;28;01mfinally\u001b[39;00m:\n\u001b[0;32m     72\u001b[0m     \u001b[38;5;28;01mdel\u001b[39;00m filtered_tb\n",
      "File \u001b[1;32m~\\AppData\\Local\\Temp\\__autograph_generated_fileyquslx57.py:15\u001b[0m, in \u001b[0;36mouter_factory.<locals>.inner_factory.<locals>.tf__train_function\u001b[1;34m(iterator)\u001b[0m\n\u001b[0;32m     13\u001b[0m \u001b[38;5;28;01mtry\u001b[39;00m:\n\u001b[0;32m     14\u001b[0m     do_return \u001b[38;5;241m=\u001b[39m \u001b[38;5;28;01mTrue\u001b[39;00m\n\u001b[1;32m---> 15\u001b[0m     retval_ \u001b[38;5;241m=\u001b[39m ag__\u001b[38;5;241m.\u001b[39mconverted_call(ag__\u001b[38;5;241m.\u001b[39mld(step_function), (ag__\u001b[38;5;241m.\u001b[39mld(\u001b[38;5;28mself\u001b[39m), ag__\u001b[38;5;241m.\u001b[39mld(iterator)), \u001b[38;5;28;01mNone\u001b[39;00m, fscope)\n\u001b[0;32m     16\u001b[0m \u001b[38;5;28;01mexcept\u001b[39;00m:\n\u001b[0;32m     17\u001b[0m     do_return \u001b[38;5;241m=\u001b[39m \u001b[38;5;28;01mFalse\u001b[39;00m\n",
      "\u001b[1;31mValueError\u001b[0m: in user code:\n\n    File \"C:\\Users\\Admin\\AppData\\Local\\Programs\\Python\\Python310\\lib\\site-packages\\keras\\engine\\training.py\", line 1160, in train_function  *\n        return step_function(self, iterator)\n    File \"C:\\Users\\Admin\\AppData\\Local\\Programs\\Python\\Python310\\lib\\site-packages\\keras\\engine\\training.py\", line 1146, in step_function  **\n        outputs = model.distribute_strategy.run(run_step, args=(data,))\n    File \"C:\\Users\\Admin\\AppData\\Local\\Programs\\Python\\Python310\\lib\\site-packages\\keras\\engine\\training.py\", line 1135, in run_step  **\n        outputs = model.train_step(data)\n    File \"C:\\Users\\Admin\\AppData\\Local\\Programs\\Python\\Python310\\lib\\site-packages\\keras\\engine\\training.py\", line 993, in train_step\n        y_pred = self(x, training=True)\n    File \"C:\\Users\\Admin\\AppData\\Local\\Programs\\Python\\Python310\\lib\\site-packages\\keras\\utils\\traceback_utils.py\", line 70, in error_handler\n        raise e.with_traceback(filtered_tb) from None\n    File \"C:\\Users\\Admin\\AppData\\Local\\Programs\\Python\\Python310\\lib\\site-packages\\keras\\engine\\input_spec.py\", line 277, in assert_input_compatibility\n        raise ValueError(\n\n    ValueError: Exception encountered when calling layer \"sequential_12\" \"                 f\"(type Sequential).\n    \n    Input 0 of layer \"dense_24\" is incompatible with the layer: expected axis -1 of input shape to have value 768, but received input with shape (None, 1)\n    \n    Call arguments received by layer \"sequential_12\" \"                 f\"(type Sequential):\n      • inputs=tf.Tensor(shape=(None, 1), dtype=string)\n      • training=True\n      • mask=None\n"
     ]
    }
   ],
   "source": [
    "MODEL.fit(X_train, y_train, verbose=0, epochs=3)"
   ]
  },
  {
   "cell_type": "code",
   "execution_count": null,
   "id": "2fde521e",
   "metadata": {
    "scrolled": true
   },
   "outputs": [],
   "source": [
    "import numpy as np\n",
    "y_train = np.asarray(y_train).astype(np.int64)\n",
    "model.fit(X_train, y_train, epochs = 10)"
   ]
  },
  {
   "cell_type": "code",
   "execution_count": null,
   "id": "ab2a42f8",
   "metadata": {},
   "outputs": [],
   "source": []
  }
 ],
 "metadata": {
  "kernelspec": {
   "display_name": "Python 3 (ipykernel)",
   "language": "python",
   "name": "python3"
  },
  "language_info": {
   "codemirror_mode": {
    "name": "ipython",
    "version": 3
   },
   "file_extension": ".py",
   "mimetype": "text/x-python",
   "name": "python",
   "nbconvert_exporter": "python",
   "pygments_lexer": "ipython3",
   "version": "3.10.11"
  }
 },
 "nbformat": 4,
 "nbformat_minor": 5
}
